{
 "cells": [
  {
   "cell_type": "code",
   "execution_count": 2,
   "metadata": {},
   "outputs": [],
   "source": [
    "#importing libraries\n",
    "\n",
    "import numpy as np\n",
    "import pandas as pd\n",
    "import matplotlib.pyplot as plt \n",
    "import seaborn as sns "
   ]
  },
  {
   "cell_type": "raw",
   "metadata": {},
   "source": [
    "Dataset description\n",
    "\n",
    "Starting in 2013, the table reflects an expanded, multi-outlet retail data set. Multi-outlet reporting includes an aggregation of the following channels: grocery, mass, club, drug, dollar and military. The Average Price (of avocados) in the table reflects a per unit (per avocado) cost, even when multiple units (avocados) are sold in bags. The Product Lookup codes (PLU’s) in the table are only for Hass avocados. Other varieties of avocados (e.g. greenskins) are not included in this table.\n",
    "\n",
    "Some relevant columns in the dataset:\n",
    "\n",
    "1. Date - The date of the observation\n",
    "2. AveragePrice: the average price of a single avocado\n",
    "3. Total Volume: Total number of avocados sold\n",
    "4. Total Bags: Total number of bags\n",
    "5. Small Bags: Total number of Small bags\n",
    "6. Large Bags: Total number of Large bags\n",
    "7. XLarge Bags: Total number of XLarge bags\n",
    "8. type: conventional or organic\n",
    "9. year: the year\n",
    "10. region: the city or region of the observation\n",
    "11. 4046: Total number of avocados with PLU 4046 sold\n",
    "12. 4225: Total number of avocados with PLU 4225 sold\n",
    "13. 4770: Total number of avocados with PLU 4770 sold"
   ]
  },
  {
   "cell_type": "raw",
   "metadata": {},
   "source": [
    "PROBLEM STATEMENT\n",
    "\n",
    "1. Which region of growing has the highest and lowest price of avocados?\n",
    "2. What is the average avocado production in a year?\n",
    "3. Which code of PLUs sell for the highest amount?\n",
    "4. In which year the rate of the avocados was highest?\n",
    "5. Which region has the highest avocado production?"
   ]
  },
  {
   "cell_type": "code",
   "execution_count": 3,
   "metadata": {},
   "outputs": [
    {
     "data": {
      "text/html": [
       "<div>\n",
       "<style scoped>\n",
       "    .dataframe tbody tr th:only-of-type {\n",
       "        vertical-align: middle;\n",
       "    }\n",
       "\n",
       "    .dataframe tbody tr th {\n",
       "        vertical-align: top;\n",
       "    }\n",
       "\n",
       "    .dataframe thead th {\n",
       "        text-align: right;\n",
       "    }\n",
       "</style>\n",
       "<table border=\"1\" class=\"dataframe\">\n",
       "  <thead>\n",
       "    <tr style=\"text-align: right;\">\n",
       "      <th></th>\n",
       "      <th>Unnamed: 0</th>\n",
       "      <th>Date</th>\n",
       "      <th>AveragePrice</th>\n",
       "      <th>Total Volume</th>\n",
       "      <th>4046</th>\n",
       "      <th>4225</th>\n",
       "      <th>4770</th>\n",
       "      <th>Total Bags</th>\n",
       "      <th>Small Bags</th>\n",
       "      <th>Large Bags</th>\n",
       "      <th>XLarge Bags</th>\n",
       "      <th>type</th>\n",
       "      <th>year</th>\n",
       "      <th>region</th>\n",
       "    </tr>\n",
       "  </thead>\n",
       "  <tbody>\n",
       "    <tr>\n",
       "      <th>0</th>\n",
       "      <td>0</td>\n",
       "      <td>27-12-2015</td>\n",
       "      <td>1.33</td>\n",
       "      <td>64236.62</td>\n",
       "      <td>1036.74</td>\n",
       "      <td>54454.85</td>\n",
       "      <td>48.16</td>\n",
       "      <td>8696.87</td>\n",
       "      <td>8603.62</td>\n",
       "      <td>93.25</td>\n",
       "      <td>0.0</td>\n",
       "      <td>conventional</td>\n",
       "      <td>2015</td>\n",
       "      <td>Albany</td>\n",
       "    </tr>\n",
       "    <tr>\n",
       "      <th>1</th>\n",
       "      <td>1</td>\n",
       "      <td>20-12-2015</td>\n",
       "      <td>1.35</td>\n",
       "      <td>54876.98</td>\n",
       "      <td>674.28</td>\n",
       "      <td>44638.81</td>\n",
       "      <td>58.33</td>\n",
       "      <td>9505.56</td>\n",
       "      <td>9408.07</td>\n",
       "      <td>97.49</td>\n",
       "      <td>0.0</td>\n",
       "      <td>conventional</td>\n",
       "      <td>2015</td>\n",
       "      <td>Albany</td>\n",
       "    </tr>\n",
       "    <tr>\n",
       "      <th>2</th>\n",
       "      <td>2</td>\n",
       "      <td>13-12-2015</td>\n",
       "      <td>0.93</td>\n",
       "      <td>118220.22</td>\n",
       "      <td>794.70</td>\n",
       "      <td>109149.67</td>\n",
       "      <td>130.50</td>\n",
       "      <td>8145.35</td>\n",
       "      <td>8042.21</td>\n",
       "      <td>103.14</td>\n",
       "      <td>0.0</td>\n",
       "      <td>conventional</td>\n",
       "      <td>2015</td>\n",
       "      <td>Albany</td>\n",
       "    </tr>\n",
       "    <tr>\n",
       "      <th>3</th>\n",
       "      <td>3</td>\n",
       "      <td>06-12-2015</td>\n",
       "      <td>1.08</td>\n",
       "      <td>78992.15</td>\n",
       "      <td>1132.00</td>\n",
       "      <td>71976.41</td>\n",
       "      <td>72.58</td>\n",
       "      <td>5811.16</td>\n",
       "      <td>5677.40</td>\n",
       "      <td>133.76</td>\n",
       "      <td>0.0</td>\n",
       "      <td>conventional</td>\n",
       "      <td>2015</td>\n",
       "      <td>Albany</td>\n",
       "    </tr>\n",
       "    <tr>\n",
       "      <th>4</th>\n",
       "      <td>4</td>\n",
       "      <td>29-11-2015</td>\n",
       "      <td>1.28</td>\n",
       "      <td>51039.60</td>\n",
       "      <td>941.48</td>\n",
       "      <td>43838.39</td>\n",
       "      <td>75.78</td>\n",
       "      <td>6183.95</td>\n",
       "      <td>5986.26</td>\n",
       "      <td>197.69</td>\n",
       "      <td>0.0</td>\n",
       "      <td>conventional</td>\n",
       "      <td>2015</td>\n",
       "      <td>Albany</td>\n",
       "    </tr>\n",
       "  </tbody>\n",
       "</table>\n",
       "</div>"
      ],
      "text/plain": [
       "   Unnamed: 0        Date  AveragePrice  Total Volume     4046       4225  \\\n",
       "0           0  27-12-2015          1.33      64236.62  1036.74   54454.85   \n",
       "1           1  20-12-2015          1.35      54876.98   674.28   44638.81   \n",
       "2           2  13-12-2015          0.93     118220.22   794.70  109149.67   \n",
       "3           3  06-12-2015          1.08      78992.15  1132.00   71976.41   \n",
       "4           4  29-11-2015          1.28      51039.60   941.48   43838.39   \n",
       "\n",
       "     4770  Total Bags  Small Bags  Large Bags  XLarge Bags          type  \\\n",
       "0   48.16     8696.87     8603.62       93.25          0.0  conventional   \n",
       "1   58.33     9505.56     9408.07       97.49          0.0  conventional   \n",
       "2  130.50     8145.35     8042.21      103.14          0.0  conventional   \n",
       "3   72.58     5811.16     5677.40      133.76          0.0  conventional   \n",
       "4   75.78     6183.95     5986.26      197.69          0.0  conventional   \n",
       "\n",
       "   year  region  \n",
       "0  2015  Albany  \n",
       "1  2015  Albany  \n",
       "2  2015  Albany  \n",
       "3  2015  Albany  \n",
       "4  2015  Albany  "
      ]
     },
     "execution_count": 3,
     "metadata": {},
     "output_type": "execute_result"
    }
   ],
   "source": [
    "#loading dataset and making copy\n",
    "\n",
    "df = pd.read_csv('avocado.csv')\n",
    "dfc = df.copy()\n",
    "dfc.head()"
   ]
  },
  {
   "cell_type": "code",
   "execution_count": 4,
   "metadata": {},
   "outputs": [
    {
     "data": {
      "text/html": [
       "<div>\n",
       "<style scoped>\n",
       "    .dataframe tbody tr th:only-of-type {\n",
       "        vertical-align: middle;\n",
       "    }\n",
       "\n",
       "    .dataframe tbody tr th {\n",
       "        vertical-align: top;\n",
       "    }\n",
       "\n",
       "    .dataframe thead th {\n",
       "        text-align: right;\n",
       "    }\n",
       "</style>\n",
       "<table border=\"1\" class=\"dataframe\">\n",
       "  <thead>\n",
       "    <tr style=\"text-align: right;\">\n",
       "      <th></th>\n",
       "      <th>Unnamed: 0</th>\n",
       "      <th>AveragePrice</th>\n",
       "      <th>Total Volume</th>\n",
       "      <th>4046</th>\n",
       "      <th>4225</th>\n",
       "      <th>4770</th>\n",
       "      <th>Total Bags</th>\n",
       "      <th>Small Bags</th>\n",
       "      <th>Large Bags</th>\n",
       "      <th>XLarge Bags</th>\n",
       "      <th>year</th>\n",
       "    </tr>\n",
       "  </thead>\n",
       "  <tbody>\n",
       "    <tr>\n",
       "      <th>count</th>\n",
       "      <td>1517.000000</td>\n",
       "      <td>1517.000000</td>\n",
       "      <td>1.517000e+03</td>\n",
       "      <td>1.517000e+03</td>\n",
       "      <td>1.517000e+03</td>\n",
       "      <td>1.517000e+03</td>\n",
       "      <td>1.517000e+03</td>\n",
       "      <td>1.517000e+03</td>\n",
       "      <td>1.517000e+03</td>\n",
       "      <td>1517.000000</td>\n",
       "      <td>1517.000000</td>\n",
       "    </tr>\n",
       "    <tr>\n",
       "      <th>mean</th>\n",
       "      <td>26.995386</td>\n",
       "      <td>1.074990</td>\n",
       "      <td>1.601879e+06</td>\n",
       "      <td>6.464387e+05</td>\n",
       "      <td>6.114375e+05</td>\n",
       "      <td>5.040550e+04</td>\n",
       "      <td>2.935974e+05</td>\n",
       "      <td>2.487736e+05</td>\n",
       "      <td>4.264205e+04</td>\n",
       "      <td>2181.771074</td>\n",
       "      <td>2015.162821</td>\n",
       "    </tr>\n",
       "    <tr>\n",
       "      <th>std</th>\n",
       "      <td>14.848287</td>\n",
       "      <td>0.188891</td>\n",
       "      <td>4.433143e+06</td>\n",
       "      <td>1.947614e+06</td>\n",
       "      <td>1.672906e+06</td>\n",
       "      <td>1.377812e+05</td>\n",
       "      <td>7.579765e+05</td>\n",
       "      <td>6.474765e+05</td>\n",
       "      <td>1.182157e+05</td>\n",
       "      <td>7455.712144</td>\n",
       "      <td>0.369324</td>\n",
       "    </tr>\n",
       "    <tr>\n",
       "      <th>min</th>\n",
       "      <td>0.000000</td>\n",
       "      <td>0.490000</td>\n",
       "      <td>3.875074e+04</td>\n",
       "      <td>4.677200e+02</td>\n",
       "      <td>1.783770e+03</td>\n",
       "      <td>0.000000e+00</td>\n",
       "      <td>3.311770e+03</td>\n",
       "      <td>3.311770e+03</td>\n",
       "      <td>0.000000e+00</td>\n",
       "      <td>0.000000</td>\n",
       "      <td>2015.000000</td>\n",
       "    </tr>\n",
       "    <tr>\n",
       "      <th>25%</th>\n",
       "      <td>14.000000</td>\n",
       "      <td>0.980000</td>\n",
       "      <td>1.474700e+05</td>\n",
       "      <td>2.040034e+04</td>\n",
       "      <td>4.147606e+04</td>\n",
       "      <td>9.112500e+02</td>\n",
       "      <td>3.620689e+04</td>\n",
       "      <td>2.972722e+04</td>\n",
       "      <td>5.407400e+02</td>\n",
       "      <td>0.000000</td>\n",
       "      <td>2015.000000</td>\n",
       "    </tr>\n",
       "    <tr>\n",
       "      <th>50%</th>\n",
       "      <td>29.000000</td>\n",
       "      <td>1.080000</td>\n",
       "      <td>4.027919e+05</td>\n",
       "      <td>8.175117e+04</td>\n",
       "      <td>1.186649e+05</td>\n",
       "      <td>7.688170e+03</td>\n",
       "      <td>7.397906e+04</td>\n",
       "      <td>6.237569e+04</td>\n",
       "      <td>5.044350e+03</td>\n",
       "      <td>0.000000</td>\n",
       "      <td>2015.000000</td>\n",
       "    </tr>\n",
       "    <tr>\n",
       "      <th>75%</th>\n",
       "      <td>39.000000</td>\n",
       "      <td>1.190000</td>\n",
       "      <td>9.819751e+05</td>\n",
       "      <td>3.775785e+05</td>\n",
       "      <td>4.851503e+05</td>\n",
       "      <td>2.916730e+04</td>\n",
       "      <td>1.576097e+05</td>\n",
       "      <td>1.461994e+05</td>\n",
       "      <td>2.926767e+04</td>\n",
       "      <td>401.480000</td>\n",
       "      <td>2015.000000</td>\n",
       "    </tr>\n",
       "    <tr>\n",
       "      <th>max</th>\n",
       "      <td>51.000000</td>\n",
       "      <td>1.680000</td>\n",
       "      <td>4.465546e+07</td>\n",
       "      <td>1.893304e+07</td>\n",
       "      <td>1.895648e+07</td>\n",
       "      <td>1.381516e+06</td>\n",
       "      <td>6.736304e+06</td>\n",
       "      <td>5.893642e+06</td>\n",
       "      <td>1.121076e+06</td>\n",
       "      <td>108072.790000</td>\n",
       "      <td>2016.000000</td>\n",
       "    </tr>\n",
       "  </tbody>\n",
       "</table>\n",
       "</div>"
      ],
      "text/plain": [
       "        Unnamed: 0  AveragePrice  Total Volume          4046          4225  \\\n",
       "count  1517.000000   1517.000000  1.517000e+03  1.517000e+03  1.517000e+03   \n",
       "mean     26.995386      1.074990  1.601879e+06  6.464387e+05  6.114375e+05   \n",
       "std      14.848287      0.188891  4.433143e+06  1.947614e+06  1.672906e+06   \n",
       "min       0.000000      0.490000  3.875074e+04  4.677200e+02  1.783770e+03   \n",
       "25%      14.000000      0.980000  1.474700e+05  2.040034e+04  4.147606e+04   \n",
       "50%      29.000000      1.080000  4.027919e+05  8.175117e+04  1.186649e+05   \n",
       "75%      39.000000      1.190000  9.819751e+05  3.775785e+05  4.851503e+05   \n",
       "max      51.000000      1.680000  4.465546e+07  1.893304e+07  1.895648e+07   \n",
       "\n",
       "               4770    Total Bags    Small Bags    Large Bags    XLarge Bags  \\\n",
       "count  1.517000e+03  1.517000e+03  1.517000e+03  1.517000e+03    1517.000000   \n",
       "mean   5.040550e+04  2.935974e+05  2.487736e+05  4.264205e+04    2181.771074   \n",
       "std    1.377812e+05  7.579765e+05  6.474765e+05  1.182157e+05    7455.712144   \n",
       "min    0.000000e+00  3.311770e+03  3.311770e+03  0.000000e+00       0.000000   \n",
       "25%    9.112500e+02  3.620689e+04  2.972722e+04  5.407400e+02       0.000000   \n",
       "50%    7.688170e+03  7.397906e+04  6.237569e+04  5.044350e+03       0.000000   \n",
       "75%    2.916730e+04  1.576097e+05  1.461994e+05  2.926767e+04     401.480000   \n",
       "max    1.381516e+06  6.736304e+06  5.893642e+06  1.121076e+06  108072.790000   \n",
       "\n",
       "              year  \n",
       "count  1517.000000  \n",
       "mean   2015.162821  \n",
       "std       0.369324  \n",
       "min    2015.000000  \n",
       "25%    2015.000000  \n",
       "50%    2015.000000  \n",
       "75%    2015.000000  \n",
       "max    2016.000000  "
      ]
     },
     "execution_count": 4,
     "metadata": {},
     "output_type": "execute_result"
    }
   ],
   "source": [
    "#statistical summary of dataset\n",
    "df.describe()"
   ]
  },
  {
   "cell_type": "code",
   "execution_count": 5,
   "metadata": {},
   "outputs": [
    {
     "data": {
      "text/plain": [
       "Unnamed: 0      0\n",
       "Date            0\n",
       "AveragePrice    0\n",
       "Total Volume    0\n",
       "4046            0\n",
       "4225            0\n",
       "4770            0\n",
       "Total Bags      0\n",
       "Small Bags      0\n",
       "Large Bags      0\n",
       "XLarge Bags     0\n",
       "type            0\n",
       "year            0\n",
       "region          0\n",
       "dtype: int64"
      ]
     },
     "execution_count": 5,
     "metadata": {},
     "output_type": "execute_result"
    }
   ],
   "source": [
    "#checking out null values\n",
    "df.isnull().sum()"
   ]
  },
  {
   "cell_type": "code",
   "execution_count": 6,
   "metadata": {},
   "outputs": [
    {
     "data": {
      "text/plain": [
       "(1517, 14)"
      ]
     },
     "execution_count": 6,
     "metadata": {},
     "output_type": "execute_result"
    }
   ],
   "source": [
    "#checking out shape of dataset\n",
    "df.shape"
   ]
  },
  {
   "cell_type": "code",
   "execution_count": 7,
   "metadata": {
    "scrolled": false
   },
   "outputs": [
    {
     "name": "stdout",
     "output_type": "stream",
     "text": [
      "<class 'pandas.core.frame.DataFrame'>\n",
      "RangeIndex: 1517 entries, 0 to 1516\n",
      "Data columns (total 14 columns):\n",
      " #   Column        Non-Null Count  Dtype  \n",
      "---  ------        --------------  -----  \n",
      " 0   Unnamed: 0    1517 non-null   int64  \n",
      " 1   Date          1517 non-null   object \n",
      " 2   AveragePrice  1517 non-null   float64\n",
      " 3   Total Volume  1517 non-null   float64\n",
      " 4   4046          1517 non-null   float64\n",
      " 5   4225          1517 non-null   float64\n",
      " 6   4770          1517 non-null   float64\n",
      " 7   Total Bags    1517 non-null   float64\n",
      " 8   Small Bags    1517 non-null   float64\n",
      " 9   Large Bags    1517 non-null   float64\n",
      " 10  XLarge Bags   1517 non-null   float64\n",
      " 11  type          1517 non-null   object \n",
      " 12  year          1517 non-null   int64  \n",
      " 13  region        1517 non-null   object \n",
      "dtypes: float64(9), int64(2), object(3)\n",
      "memory usage: 166.0+ KB\n"
     ]
    }
   ],
   "source": [
    "#checking info of dataset\n",
    "df.info()"
   ]
  },
  {
   "cell_type": "markdown",
   "metadata": {},
   "source": [
    "# Cleaning Data"
   ]
  },
  {
   "cell_type": "code",
   "execution_count": 8,
   "metadata": {},
   "outputs": [],
   "source": [
    "#dropping unnecessary columns\n",
    "dfc = df.drop(['Unnamed: 0','Date','4046','4225','4770'], axis=1)"
   ]
  },
  {
   "cell_type": "code",
   "execution_count": 9,
   "metadata": {},
   "outputs": [
    {
     "data": {
      "text/plain": [
       "1"
      ]
     },
     "execution_count": 9,
     "metadata": {},
     "output_type": "execute_result"
    }
   ],
   "source": [
    "#checking out unique values in remaining column having string values\n",
    "dfc['type'].nunique()"
   ]
  },
  {
   "cell_type": "code",
   "execution_count": 10,
   "metadata": {},
   "outputs": [],
   "source": [
    "#dropping it since it has only one value\n",
    "dfc = dfc.drop(['type'], axis=1)"
   ]
  },
  {
   "cell_type": "code",
   "execution_count": 11,
   "metadata": {},
   "outputs": [
    {
     "data": {
      "text/plain": [
       "array(['Albany', 'Atlanta', 'BaltimoreWashington', 'Boise', 'Boston',\n",
       "       'BuffaloRochester', 'California', 'Charlotte', 'Chicago',\n",
       "       'Columbus', 'DallasFtWorth', 'Denver', 'Detroit', 'GrandRapids',\n",
       "       'GreatLakes', 'HarrisburgScranton', 'HartfordSpringfield',\n",
       "       'Houston', 'Indianapolis', 'Jacksonville', 'LasVegas',\n",
       "       'LosAngeles', 'Louisville', 'MiamiFtLauderdale', 'Midsouth',\n",
       "       'Nashville', 'NewYork', 'Northeast', 'NorthernNewEngland',\n",
       "       'Orlando', 'Philadelphia', 'PhoenixTucson', 'Pittsburgh', 'Plains',\n",
       "       'Portland', 'RaleighGreensboro', 'RichmondNorfolk', 'Roanoke',\n",
       "       'SanDiego', 'SanFrancisco', 'Seattle', 'SouthCarolina',\n",
       "       'SouthCentral', 'Southeast', 'Spokane', 'StLouis', 'Syracuse',\n",
       "       'Tampa', 'TotalUS', 'West', 'WestTexNewMexico'], dtype=object)"
      ]
     },
     "execution_count": 11,
     "metadata": {},
     "output_type": "execute_result"
    }
   ],
   "source": [
    "#checking out unique values in region column\n",
    "dfc['region'].unique()"
   ]
  },
  {
   "cell_type": "code",
   "execution_count": 12,
   "metadata": {},
   "outputs": [
    {
     "data": {
      "text/html": [
       "<div>\n",
       "<style scoped>\n",
       "    .dataframe tbody tr th:only-of-type {\n",
       "        vertical-align: middle;\n",
       "    }\n",
       "\n",
       "    .dataframe tbody tr th {\n",
       "        vertical-align: top;\n",
       "    }\n",
       "\n",
       "    .dataframe thead th {\n",
       "        text-align: right;\n",
       "    }\n",
       "</style>\n",
       "<table border=\"1\" class=\"dataframe\">\n",
       "  <thead>\n",
       "    <tr style=\"text-align: right;\">\n",
       "      <th></th>\n",
       "      <th>AveragePrice</th>\n",
       "      <th>Total Volume</th>\n",
       "      <th>Total Bags</th>\n",
       "      <th>Small Bags</th>\n",
       "      <th>Large Bags</th>\n",
       "      <th>XLarge Bags</th>\n",
       "      <th>year</th>\n",
       "      <th>region</th>\n",
       "    </tr>\n",
       "  </thead>\n",
       "  <tbody>\n",
       "    <tr>\n",
       "      <th>0</th>\n",
       "      <td>1.33</td>\n",
       "      <td>64236.62</td>\n",
       "      <td>8696.87</td>\n",
       "      <td>8603.62</td>\n",
       "      <td>93.25</td>\n",
       "      <td>0.0</td>\n",
       "      <td>2015</td>\n",
       "      <td>Albany</td>\n",
       "    </tr>\n",
       "    <tr>\n",
       "      <th>1</th>\n",
       "      <td>1.35</td>\n",
       "      <td>54876.98</td>\n",
       "      <td>9505.56</td>\n",
       "      <td>9408.07</td>\n",
       "      <td>97.49</td>\n",
       "      <td>0.0</td>\n",
       "      <td>2015</td>\n",
       "      <td>Albany</td>\n",
       "    </tr>\n",
       "    <tr>\n",
       "      <th>2</th>\n",
       "      <td>0.93</td>\n",
       "      <td>118220.22</td>\n",
       "      <td>8145.35</td>\n",
       "      <td>8042.21</td>\n",
       "      <td>103.14</td>\n",
       "      <td>0.0</td>\n",
       "      <td>2015</td>\n",
       "      <td>Albany</td>\n",
       "    </tr>\n",
       "    <tr>\n",
       "      <th>3</th>\n",
       "      <td>1.08</td>\n",
       "      <td>78992.15</td>\n",
       "      <td>5811.16</td>\n",
       "      <td>5677.40</td>\n",
       "      <td>133.76</td>\n",
       "      <td>0.0</td>\n",
       "      <td>2015</td>\n",
       "      <td>Albany</td>\n",
       "    </tr>\n",
       "    <tr>\n",
       "      <th>4</th>\n",
       "      <td>1.28</td>\n",
       "      <td>51039.60</td>\n",
       "      <td>6183.95</td>\n",
       "      <td>5986.26</td>\n",
       "      <td>197.69</td>\n",
       "      <td>0.0</td>\n",
       "      <td>2015</td>\n",
       "      <td>Albany</td>\n",
       "    </tr>\n",
       "  </tbody>\n",
       "</table>\n",
       "</div>"
      ],
      "text/plain": [
       "   AveragePrice  Total Volume  Total Bags  Small Bags  Large Bags  \\\n",
       "0          1.33      64236.62     8696.87     8603.62       93.25   \n",
       "1          1.35      54876.98     9505.56     9408.07       97.49   \n",
       "2          0.93     118220.22     8145.35     8042.21      103.14   \n",
       "3          1.08      78992.15     5811.16     5677.40      133.76   \n",
       "4          1.28      51039.60     6183.95     5986.26      197.69   \n",
       "\n",
       "   XLarge Bags  year  region  \n",
       "0          0.0  2015  Albany  \n",
       "1          0.0  2015  Albany  \n",
       "2          0.0  2015  Albany  \n",
       "3          0.0  2015  Albany  \n",
       "4          0.0  2015  Albany  "
      ]
     },
     "execution_count": 12,
     "metadata": {},
     "output_type": "execute_result"
    }
   ],
   "source": [
    "dfc.head()"
   ]
  },
  {
   "cell_type": "code",
   "execution_count": 13,
   "metadata": {},
   "outputs": [
    {
     "data": {
      "text/plain": [
       "array([2015, 2016], dtype=int64)"
      ]
     },
     "execution_count": 13,
     "metadata": {},
     "output_type": "execute_result"
    }
   ],
   "source": [
    "#checking out unique values in year column\n",
    "dfc['year'].unique()"
   ]
  },
  {
   "cell_type": "markdown",
   "metadata": {},
   "source": [
    "# Visualising data"
   ]
  },
  {
   "cell_type": "markdown",
   "metadata": {},
   "source": [
    "### Which regions have the lowest and highest prices of Avocado?"
   ]
  },
  {
   "cell_type": "code",
   "execution_count": 14,
   "metadata": {},
   "outputs": [],
   "source": [
    "# taking average of repeated row prices for making a barplot\n",
    "l=[]\n",
    "for i in dfc['region'].unique():\n",
    "    l.append(dfc['AveragePrice'][dfc['region']==i].mean())"
   ]
  },
  {
   "cell_type": "code",
   "execution_count": 15,
   "metadata": {},
   "outputs": [
    {
     "name": "stdout",
     "output_type": "stream",
     "text": [
      "[1.2386567164179108, 1.0120370370370368, 1.1609230769230767, 0.974923076923077, 1.2054838709677418, 1.3015686274509803, 1.055921052631579, 1.3116129032258064, 1.214782608695652, 1.0125531914893622, 0.7558823529411764, 1.0808333333333333, 1.04125, 1.1369565217391302, 1.107222222222222, 1.1573684210526316, 1.209230769230769, 0.780689655172414, 1.1262500000000002, 1.113658536585366, 1.041, 0.8633333333333333, 1.0429411764705883, 1.1764705882352942, 1.0811111111111111, 1.0284, 1.2486363636363633, 1.2366666666666666, 1.111034482758621, 1.1333333333333335, 1.2938461538461539, 0.6598076923076925, 1.1786363636363637, 1.0516666666666665, 1.043666666666667, 1.1662499999999998, 1.0047619047619047, 1.096470588235294, 0.9934210526315788, 1.1506666666666665, 1.0522222222222224, 1.0712499999999998, 0.8187179487179483, 1.0911111111111111, 1.0961224489795918, 1.26, 1.3473684210526315, 1.0688235294117645, 1.0116, 0.9408333333333334, 0.7574074074074075]\n"
     ]
    }
   ],
   "source": [
    "print(l)"
   ]
  },
  {
   "cell_type": "code",
   "execution_count": 16,
   "metadata": {},
   "outputs": [
    {
     "data": {
      "text/html": [
       "<div>\n",
       "<style scoped>\n",
       "    .dataframe tbody tr th:only-of-type {\n",
       "        vertical-align: middle;\n",
       "    }\n",
       "\n",
       "    .dataframe tbody tr th {\n",
       "        vertical-align: top;\n",
       "    }\n",
       "\n",
       "    .dataframe thead th {\n",
       "        text-align: right;\n",
       "    }\n",
       "</style>\n",
       "<table border=\"1\" class=\"dataframe\">\n",
       "  <thead>\n",
       "    <tr style=\"text-align: right;\">\n",
       "      <th></th>\n",
       "      <th>Mean_price</th>\n",
       "    </tr>\n",
       "  </thead>\n",
       "  <tbody>\n",
       "    <tr>\n",
       "      <th>Syracuse</th>\n",
       "      <td>1.347368</td>\n",
       "    </tr>\n",
       "    <tr>\n",
       "      <th>Charlotte</th>\n",
       "      <td>1.311613</td>\n",
       "    </tr>\n",
       "    <tr>\n",
       "      <th>BuffaloRochester</th>\n",
       "      <td>1.301569</td>\n",
       "    </tr>\n",
       "    <tr>\n",
       "      <th>Philadelphia</th>\n",
       "      <td>1.293846</td>\n",
       "    </tr>\n",
       "    <tr>\n",
       "      <th>StLouis</th>\n",
       "      <td>1.260000</td>\n",
       "    </tr>\n",
       "  </tbody>\n",
       "</table>\n",
       "</div>"
      ],
      "text/plain": [
       "                  Mean_price\n",
       "Syracuse            1.347368\n",
       "Charlotte           1.311613\n",
       "BuffaloRochester    1.301569\n",
       "Philadelphia        1.293846\n",
       "StLouis             1.260000"
      ]
     },
     "execution_count": 16,
     "metadata": {},
     "output_type": "execute_result"
    }
   ],
   "source": [
    "#passing averaged values alongwith region in dataframe\n",
    "sd = pd.DataFrame(l, columns=['Mean_price'], index=dfc['region'].unique()).sort_values('Mean_price', ascending=False)\n",
    "sd.head()"
   ]
  },
  {
   "cell_type": "code",
   "execution_count": 17,
   "metadata": {
    "scrolled": false
   },
   "outputs": [
    {
     "data": {
      "text/plain": [
       "Text(0, 0.5, 'Price in $')"
      ]
     },
     "execution_count": 17,
     "metadata": {},
     "output_type": "execute_result"
    },
    {
     "data": {
      "image/png": "[encoded data removed]",
      "text/plain": [
       "<Figure size 1080x360 with 1 Axes>"
      ]
     },
     "metadata": {
      "needs_background": "light"
     },
     "output_type": "display_data"
    }
   ],
   "source": [
    "#barplot of price variation with region\n",
    "plt.figure(figsize=(15,5))\n",
    "sns.barplot(x=sd.index , y=sd['Mean_price'], palette='rocket')\n",
    "plt.xticks(rotation=90);\n",
    "plt.ylabel('Price in $')\n"
   ]
  },
  {
   "cell_type": "raw",
   "metadata": {},
   "source": [
    "we can see that 'Syracuse' produces avocado with the highest price whereas 'PhoenixTucson' produces ones with the lowest price"
   ]
  },
  {
   "cell_type": "markdown",
   "metadata": {},
   "source": [
    "### Which region has the highest avocado production?\n"
   ]
  },
  {
   "cell_type": "code",
   "execution_count": 18,
   "metadata": {},
   "outputs": [
    {
     "data": {
      "text/html": [
       "<div>\n",
       "<style scoped>\n",
       "    .dataframe tbody tr th:only-of-type {\n",
       "        vertical-align: middle;\n",
       "    }\n",
       "\n",
       "    .dataframe tbody tr th {\n",
       "        vertical-align: top;\n",
       "    }\n",
       "\n",
       "    .dataframe thead th {\n",
       "        text-align: right;\n",
       "    }\n",
       "</style>\n",
       "<table border=\"1\" class=\"dataframe\">\n",
       "  <thead>\n",
       "    <tr style=\"text-align: right;\">\n",
       "      <th></th>\n",
       "      <th>AveragePrice</th>\n",
       "      <th>Total Volume</th>\n",
       "      <th>Total Bags</th>\n",
       "      <th>Small Bags</th>\n",
       "      <th>Large Bags</th>\n",
       "      <th>XLarge Bags</th>\n",
       "      <th>year</th>\n",
       "      <th>region</th>\n",
       "    </tr>\n",
       "  </thead>\n",
       "  <tbody>\n",
       "    <tr>\n",
       "      <th>0</th>\n",
       "      <td>1.33</td>\n",
       "      <td>64236.62</td>\n",
       "      <td>8696.87</td>\n",
       "      <td>8603.62</td>\n",
       "      <td>93.25</td>\n",
       "      <td>0.0</td>\n",
       "      <td>2015</td>\n",
       "      <td>Albany</td>\n",
       "    </tr>\n",
       "    <tr>\n",
       "      <th>1</th>\n",
       "      <td>1.35</td>\n",
       "      <td>54876.98</td>\n",
       "      <td>9505.56</td>\n",
       "      <td>9408.07</td>\n",
       "      <td>97.49</td>\n",
       "      <td>0.0</td>\n",
       "      <td>2015</td>\n",
       "      <td>Albany</td>\n",
       "    </tr>\n",
       "    <tr>\n",
       "      <th>2</th>\n",
       "      <td>0.93</td>\n",
       "      <td>118220.22</td>\n",
       "      <td>8145.35</td>\n",
       "      <td>8042.21</td>\n",
       "      <td>103.14</td>\n",
       "      <td>0.0</td>\n",
       "      <td>2015</td>\n",
       "      <td>Albany</td>\n",
       "    </tr>\n",
       "    <tr>\n",
       "      <th>3</th>\n",
       "      <td>1.08</td>\n",
       "      <td>78992.15</td>\n",
       "      <td>5811.16</td>\n",
       "      <td>5677.40</td>\n",
       "      <td>133.76</td>\n",
       "      <td>0.0</td>\n",
       "      <td>2015</td>\n",
       "      <td>Albany</td>\n",
       "    </tr>\n",
       "    <tr>\n",
       "      <th>4</th>\n",
       "      <td>1.28</td>\n",
       "      <td>51039.60</td>\n",
       "      <td>6183.95</td>\n",
       "      <td>5986.26</td>\n",
       "      <td>197.69</td>\n",
       "      <td>0.0</td>\n",
       "      <td>2015</td>\n",
       "      <td>Albany</td>\n",
       "    </tr>\n",
       "  </tbody>\n",
       "</table>\n",
       "</div>"
      ],
      "text/plain": [
       "   AveragePrice  Total Volume  Total Bags  Small Bags  Large Bags  \\\n",
       "0          1.33      64236.62     8696.87     8603.62       93.25   \n",
       "1          1.35      54876.98     9505.56     9408.07       97.49   \n",
       "2          0.93     118220.22     8145.35     8042.21      103.14   \n",
       "3          1.08      78992.15     5811.16     5677.40      133.76   \n",
       "4          1.28      51039.60     6183.95     5986.26      197.69   \n",
       "\n",
       "   XLarge Bags  year  region  \n",
       "0          0.0  2015  Albany  \n",
       "1          0.0  2015  Albany  \n",
       "2          0.0  2015  Albany  \n",
       "3          0.0  2015  Albany  \n",
       "4          0.0  2015  Albany  "
      ]
     },
     "execution_count": 18,
     "metadata": {},
     "output_type": "execute_result"
    }
   ],
   "source": [
    "dfc.head()"
   ]
  },
  {
   "cell_type": "code",
   "execution_count": 19,
   "metadata": {},
   "outputs": [],
   "source": [
    "# taking average of repeated rows for total volume for making a barplot\n",
    "l=[]\n",
    "for i in dfc['region'].unique():\n",
    "    l.append(dfc['Total Volume'][dfc['region']==i].mean())"
   ]
  },
  {
   "cell_type": "code",
   "execution_count": 20,
   "metadata": {},
   "outputs": [
    {
     "data": {
      "text/html": [
       "<div>\n",
       "<style scoped>\n",
       "    .dataframe tbody tr th:only-of-type {\n",
       "        vertical-align: middle;\n",
       "    }\n",
       "\n",
       "    .dataframe tbody tr th {\n",
       "        vertical-align: top;\n",
       "    }\n",
       "\n",
       "    .dataframe thead th {\n",
       "        text-align: right;\n",
       "    }\n",
       "</style>\n",
       "<table border=\"1\" class=\"dataframe\">\n",
       "  <thead>\n",
       "    <tr style=\"text-align: right;\">\n",
       "      <th></th>\n",
       "      <th>Mean_volume</th>\n",
       "    </tr>\n",
       "  </thead>\n",
       "  <tbody>\n",
       "    <tr>\n",
       "      <th>TotalUS</th>\n",
       "      <td>3.293714e+07</td>\n",
       "    </tr>\n",
       "    <tr>\n",
       "      <th>California</th>\n",
       "      <td>6.035277e+06</td>\n",
       "    </tr>\n",
       "    <tr>\n",
       "      <th>West</th>\n",
       "      <td>5.574939e+06</td>\n",
       "    </tr>\n",
       "    <tr>\n",
       "      <th>SouthCentral</th>\n",
       "      <td>5.496995e+06</td>\n",
       "    </tr>\n",
       "    <tr>\n",
       "      <th>Northeast</th>\n",
       "      <td>3.465864e+06</td>\n",
       "    </tr>\n",
       "  </tbody>\n",
       "</table>\n",
       "</div>"
      ],
      "text/plain": [
       "               Mean_volume\n",
       "TotalUS       3.293714e+07\n",
       "California    6.035277e+06\n",
       "West          5.574939e+06\n",
       "SouthCentral  5.496995e+06\n",
       "Northeast     3.465864e+06"
      ]
     },
     "execution_count": 20,
     "metadata": {},
     "output_type": "execute_result"
    }
   ],
   "source": [
    "#passing averaged values alongwith region in dataframe\n",
    "bd = pd.DataFrame(l, columns=['Mean_volume'], index=dfc['region'].unique()).sort_values('Mean_volume', ascending=False)\n",
    "bd.head()"
   ]
  },
  {
   "cell_type": "code",
   "execution_count": 21,
   "metadata": {},
   "outputs": [
    {
     "data": {
      "text/plain": [
       "Text(0, 0.5, 'Average avocado production')"
      ]
     },
     "execution_count": 21,
     "metadata": {},
     "output_type": "execute_result"
    },
    {
     "data": {
      "image/png": "[encoded data removed]",
      "text/plain": [
       "<Figure size 1080x576 with 1 Axes>"
      ]
     },
     "metadata": {
      "needs_background": "light"
     },
     "output_type": "display_data"
    }
   ],
   "source": [
    "#barplot of average production of avocados in a region\n",
    "plt.figure(figsize=(15,8))\n",
    "sns.barplot(x=bd.index,y=bd['Mean_volume'], palette='rocket')\n",
    "plt.xticks(rotation=90)\n",
    "plt.ylabel('Average avocado production')"
   ]
  },
  {
   "cell_type": "raw",
   "metadata": {},
   "source": [
    "We can see that California has the highest avocado production whereas Syracose has the lowest production of avocados. This fits squarely with the above results which show that Syracose has the highest price of avocados. Though California does not have the lowest price of avocados and PhoenixTucson does not have the highest production, there might be some other factors affecting the price and production of avocados."
   ]
  },
  {
   "cell_type": "code",
   "execution_count": 22,
   "metadata": {},
   "outputs": [
    {
     "data": {
      "text/html": [
       "<div>\n",
       "<style scoped>\n",
       "    .dataframe tbody tr th:only-of-type {\n",
       "        vertical-align: middle;\n",
       "    }\n",
       "\n",
       "    .dataframe tbody tr th {\n",
       "        vertical-align: top;\n",
       "    }\n",
       "\n",
       "    .dataframe thead th {\n",
       "        text-align: right;\n",
       "    }\n",
       "</style>\n",
       "<table border=\"1\" class=\"dataframe\">\n",
       "  <thead>\n",
       "    <tr style=\"text-align: right;\">\n",
       "      <th></th>\n",
       "      <th>AveragePrice</th>\n",
       "      <th>Total Volume</th>\n",
       "      <th>Total Bags</th>\n",
       "      <th>Small Bags</th>\n",
       "      <th>Large Bags</th>\n",
       "      <th>XLarge Bags</th>\n",
       "      <th>year</th>\n",
       "      <th>region</th>\n",
       "    </tr>\n",
       "  </thead>\n",
       "  <tbody>\n",
       "    <tr>\n",
       "      <th>0</th>\n",
       "      <td>1.33</td>\n",
       "      <td>64236.62</td>\n",
       "      <td>8696.87</td>\n",
       "      <td>8603.62</td>\n",
       "      <td>93.25</td>\n",
       "      <td>0.0</td>\n",
       "      <td>2015</td>\n",
       "      <td>Albany</td>\n",
       "    </tr>\n",
       "    <tr>\n",
       "      <th>1</th>\n",
       "      <td>1.35</td>\n",
       "      <td>54876.98</td>\n",
       "      <td>9505.56</td>\n",
       "      <td>9408.07</td>\n",
       "      <td>97.49</td>\n",
       "      <td>0.0</td>\n",
       "      <td>2015</td>\n",
       "      <td>Albany</td>\n",
       "    </tr>\n",
       "    <tr>\n",
       "      <th>2</th>\n",
       "      <td>0.93</td>\n",
       "      <td>118220.22</td>\n",
       "      <td>8145.35</td>\n",
       "      <td>8042.21</td>\n",
       "      <td>103.14</td>\n",
       "      <td>0.0</td>\n",
       "      <td>2015</td>\n",
       "      <td>Albany</td>\n",
       "    </tr>\n",
       "    <tr>\n",
       "      <th>3</th>\n",
       "      <td>1.08</td>\n",
       "      <td>78992.15</td>\n",
       "      <td>5811.16</td>\n",
       "      <td>5677.40</td>\n",
       "      <td>133.76</td>\n",
       "      <td>0.0</td>\n",
       "      <td>2015</td>\n",
       "      <td>Albany</td>\n",
       "    </tr>\n",
       "    <tr>\n",
       "      <th>4</th>\n",
       "      <td>1.28</td>\n",
       "      <td>51039.60</td>\n",
       "      <td>6183.95</td>\n",
       "      <td>5986.26</td>\n",
       "      <td>197.69</td>\n",
       "      <td>0.0</td>\n",
       "      <td>2015</td>\n",
       "      <td>Albany</td>\n",
       "    </tr>\n",
       "  </tbody>\n",
       "</table>\n",
       "</div>"
      ],
      "text/plain": [
       "   AveragePrice  Total Volume  Total Bags  Small Bags  Large Bags  \\\n",
       "0          1.33      64236.62     8696.87     8603.62       93.25   \n",
       "1          1.35      54876.98     9505.56     9408.07       97.49   \n",
       "2          0.93     118220.22     8145.35     8042.21      103.14   \n",
       "3          1.08      78992.15     5811.16     5677.40      133.76   \n",
       "4          1.28      51039.60     6183.95     5986.26      197.69   \n",
       "\n",
       "   XLarge Bags  year  region  \n",
       "0          0.0  2015  Albany  \n",
       "1          0.0  2015  Albany  \n",
       "2          0.0  2015  Albany  \n",
       "3          0.0  2015  Albany  \n",
       "4          0.0  2015  Albany  "
      ]
     },
     "execution_count": 22,
     "metadata": {},
     "output_type": "execute_result"
    }
   ],
   "source": [
    "dfc.head()"
   ]
  },
  {
   "cell_type": "markdown",
   "metadata": {},
   "source": [
    "### What is yearwise production of avocados by region?"
   ]
  },
  {
   "cell_type": "code",
   "execution_count": 23,
   "metadata": {},
   "outputs": [],
   "source": [
    "# taking average of repeated rows for total volume for making a barplot\n",
    "l=[]\n",
    "year=[]\n",
    "region=[]\n",
    "for i in dfc['region'].unique():\n",
    "    for j in dfc['year'].unique():\n",
    "        l.append(dfc['Total Volume'][dfc['region']==i].mean())\n",
    "        year.append(j)\n",
    "        region.append(i)"
   ]
  },
  {
   "cell_type": "code",
   "execution_count": 24,
   "metadata": {},
   "outputs": [
    {
     "data": {
      "text/html": [
       "<div>\n",
       "<style scoped>\n",
       "    .dataframe tbody tr th:only-of-type {\n",
       "        vertical-align: middle;\n",
       "    }\n",
       "\n",
       "    .dataframe tbody tr th {\n",
       "        vertical-align: top;\n",
       "    }\n",
       "\n",
       "    .dataframe thead th {\n",
       "        text-align: right;\n",
       "    }\n",
       "</style>\n",
       "<table border=\"1\" class=\"dataframe\">\n",
       "  <thead>\n",
       "    <tr style=\"text-align: right;\">\n",
       "      <th></th>\n",
       "      <th>Mean_volume</th>\n",
       "      <th>Year</th>\n",
       "      <th>region</th>\n",
       "    </tr>\n",
       "  </thead>\n",
       "  <tbody>\n",
       "    <tr>\n",
       "      <th>96</th>\n",
       "      <td>3.293714e+07</td>\n",
       "      <td>2015</td>\n",
       "      <td>TotalUS</td>\n",
       "    </tr>\n",
       "    <tr>\n",
       "      <th>97</th>\n",
       "      <td>3.293714e+07</td>\n",
       "      <td>2016</td>\n",
       "      <td>TotalUS</td>\n",
       "    </tr>\n",
       "    <tr>\n",
       "      <th>13</th>\n",
       "      <td>6.035277e+06</td>\n",
       "      <td>2016</td>\n",
       "      <td>California</td>\n",
       "    </tr>\n",
       "    <tr>\n",
       "      <th>12</th>\n",
       "      <td>6.035277e+06</td>\n",
       "      <td>2015</td>\n",
       "      <td>California</td>\n",
       "    </tr>\n",
       "    <tr>\n",
       "      <th>99</th>\n",
       "      <td>5.574939e+06</td>\n",
       "      <td>2016</td>\n",
       "      <td>West</td>\n",
       "    </tr>\n",
       "  </tbody>\n",
       "</table>\n",
       "</div>"
      ],
      "text/plain": [
       "     Mean_volume  Year      region\n",
       "96  3.293714e+07  2015     TotalUS\n",
       "97  3.293714e+07  2016     TotalUS\n",
       "13  6.035277e+06  2016  California\n",
       "12  6.035277e+06  2015  California\n",
       "99  5.574939e+06  2016        West"
      ]
     },
     "execution_count": 24,
     "metadata": {},
     "output_type": "execute_result"
    }
   ],
   "source": [
    "#passing averaged values alongwith region in dataframe\n",
    "d={'Mean_volume':l, 'Year':year, 'region':region}\n",
    "bd = pd.DataFrame(d).sort_values('Mean_volume', ascending=False)\n",
    "bd.head()"
   ]
  },
  {
   "cell_type": "code",
   "execution_count": 25,
   "metadata": {},
   "outputs": [
    {
     "data": {
      "text/plain": [
       "Text(0, 0.5, 'Average avocado production')"
      ]
     },
     "execution_count": 25,
     "metadata": {},
     "output_type": "execute_result"
    },
    {
     "data": {
      "image/png": "[encoded data removed]",
      "text/plain": [
       "<Figure size 1080x576 with 1 Axes>"
      ]
     },
     "metadata": {
      "needs_background": "light"
     },
     "output_type": "display_data"
    }
   ],
   "source": [
    "#barplot\n",
    "plt.figure(figsize=(15,8))\n",
    "sns.barplot(x=bd['region'], y=bd['Mean_volume'],hue=bd['Year'], palette='rocket')\n",
    "plt.xticks(rotation=90)\n",
    "plt.ylabel('Average avocado production')"
   ]
  },
  {
   "cell_type": "raw",
   "metadata": {},
   "source": [
    "So, it looks like the production of avocados was equal in both the years for each region seaparately "
   ]
  },
  {
   "cell_type": "raw",
   "metadata": {},
   "source": [
    "We can also infer from the same graph that the production of avocados was equal for both the years."
   ]
  },
  {
   "cell_type": "markdown",
   "metadata": {},
   "source": [
    "### What was the mean avocado price in each year?"
   ]
  },
  {
   "cell_type": "code",
   "execution_count": 26,
   "metadata": {},
   "outputs": [
    {
     "data": {
      "text/plain": [
       "year\n",
       "2015    1.060110\n",
       "2016    1.151498\n",
       "Name: AveragePrice, dtype: float64"
      ]
     },
     "execution_count": 26,
     "metadata": {},
     "output_type": "execute_result"
    }
   ],
   "source": [
    "dfc.groupby('year').mean()['AveragePrice']"
   ]
  },
  {
   "cell_type": "code",
   "execution_count": 27,
   "metadata": {},
   "outputs": [],
   "source": [
    "cv =pd.DataFrame(dfc.groupby('year').mean()['AveragePrice'])"
   ]
  },
  {
   "cell_type": "code",
   "execution_count": 28,
   "metadata": {},
   "outputs": [
    {
     "data": {
      "text/html": [
       "<div>\n",
       "<style scoped>\n",
       "    .dataframe tbody tr th:only-of-type {\n",
       "        vertical-align: middle;\n",
       "    }\n",
       "\n",
       "    .dataframe tbody tr th {\n",
       "        vertical-align: top;\n",
       "    }\n",
       "\n",
       "    .dataframe thead th {\n",
       "        text-align: right;\n",
       "    }\n",
       "</style>\n",
       "<table border=\"1\" class=\"dataframe\">\n",
       "  <thead>\n",
       "    <tr style=\"text-align: right;\">\n",
       "      <th></th>\n",
       "      <th>AveragePrice</th>\n",
       "    </tr>\n",
       "    <tr>\n",
       "      <th>year</th>\n",
       "      <th></th>\n",
       "    </tr>\n",
       "  </thead>\n",
       "  <tbody>\n",
       "    <tr>\n",
       "      <th>2015</th>\n",
       "      <td>1.060110</td>\n",
       "    </tr>\n",
       "    <tr>\n",
       "      <th>2016</th>\n",
       "      <td>1.151498</td>\n",
       "    </tr>\n",
       "  </tbody>\n",
       "</table>\n",
       "</div>"
      ],
      "text/plain": [
       "      AveragePrice\n",
       "year              \n",
       "2015      1.060110\n",
       "2016      1.151498"
      ]
     },
     "execution_count": 28,
     "metadata": {},
     "output_type": "execute_result"
    }
   ],
   "source": [
    "cv.head()"
   ]
  },
  {
   "cell_type": "code",
   "execution_count": 29,
   "metadata": {},
   "outputs": [
    {
     "data": {
      "text/plain": [
       "<matplotlib.axes._subplots.AxesSubplot at 0x13c96c79e88>"
      ]
     },
     "execution_count": 29,
     "metadata": {},
     "output_type": "execute_result"
    },
    {
     "data": {
      "image/png": "[encoded data removed]",
      "text/plain": [
       "<Figure size 432x288 with 1 Axes>"
      ]
     },
     "metadata": {
      "needs_background": "light"
     },
     "output_type": "display_data"
    }
   ],
   "source": [
    "sns.barplot(x=cv.index, y=cv['AveragePrice'])"
   ]
  },
  {
   "cell_type": "raw",
   "metadata": {},
   "source": [
    "We can see that the mean price of avocados was slighly higher in 2016 as compared to 2015 "
   ]
  },
  {
   "cell_type": "markdown",
   "metadata": {},
   "source": [
    "### What is the mean production of avocado each year?"
   ]
  },
  {
   "cell_type": "code",
   "execution_count": 30,
   "metadata": {},
   "outputs": [
    {
     "data": {
      "text/plain": [
       "year\n",
       "2015    1.610065e+06\n",
       "2016    1.559787e+06\n",
       "Name: Total Volume, dtype: float64"
      ]
     },
     "execution_count": 30,
     "metadata": {},
     "output_type": "execute_result"
    }
   ],
   "source": [
    "dfc.groupby('year').mean()['Total Volume']"
   ]
  },
  {
   "cell_type": "code",
   "execution_count": 31,
   "metadata": {},
   "outputs": [],
   "source": [
    "cv =pd.DataFrame(dfc.groupby('year').mean()['Total Volume'])"
   ]
  },
  {
   "cell_type": "code",
   "execution_count": 32,
   "metadata": {},
   "outputs": [
    {
     "data": {
      "text/plain": [
       "<matplotlib.axes._subplots.AxesSubplot at 0x13c966ca248>"
      ]
     },
     "execution_count": 32,
     "metadata": {},
     "output_type": "execute_result"
    },
    {
     "data": {
      "image/png": "[encoded data removed]",
      "text/plain": [
       "<Figure size 432x288 with 1 Axes>"
      ]
     },
     "metadata": {
      "needs_background": "light"
     },
     "output_type": "display_data"
    }
   ],
   "source": [
    "sns.barplot(x=cv.index, y=cv['Total Volume'])"
   ]
  },
  {
   "cell_type": "raw",
   "metadata": {},
   "source": [
    "We can see that the mean production of avocados was slightly less in 2016 as compared to 2015"
   ]
  },
  {
   "cell_type": "markdown",
   "metadata": {},
   "source": [
    "# Data preprocessing"
   ]
  },
  {
   "cell_type": "markdown",
   "metadata": {},
   "source": [
    "## Removing outliers"
   ]
  },
  {
   "cell_type": "code",
   "execution_count": 33,
   "metadata": {},
   "outputs": [
    {
     "data": {
      "text/plain": [
       "<matplotlib.axes._subplots.AxesSubplot at 0x13c969f5308>"
      ]
     },
     "execution_count": 33,
     "metadata": {},
     "output_type": "execute_result"
    },
    {
     "data": {
      "image/png": "[encoded data removed]",
      "text/plain": [
       "<Figure size 720x576 with 1 Axes>"
      ]
     },
     "metadata": {
      "needs_background": "light"
     },
     "output_type": "display_data"
    }
   ],
   "source": [
    "#checking for outliers\n",
    "plt.figure(figsize=(10,8))\n",
    "sns.boxplot(x=sd['Mean_price'], orient='v' )"
   ]
  },
  {
   "cell_type": "code",
   "execution_count": 34,
   "metadata": {},
   "outputs": [
    {
     "data": {
      "text/plain": [
       "<matplotlib.axes._subplots.AxesSubplot at 0x13c96a670c8>"
      ]
     },
     "execution_count": 34,
     "metadata": {},
     "output_type": "execute_result"
    },
    {
     "data": {
      "image/png": "[encoded data removed]",
      "text/plain": [
       "<Figure size 720x576 with 1 Axes>"
      ]
     },
     "metadata": {
      "needs_background": "light"
     },
     "output_type": "display_data"
    }
   ],
   "source": [
    "#checking for outliers\n",
    "plt.figure(figsize=(10,8))\n",
    "sns.boxplot(x=bd['Mean_volume'], orient='v' )"
   ]
  },
  {
   "cell_type": "code",
   "execution_count": 35,
   "metadata": {},
   "outputs": [],
   "source": [
    "dfc = dfc.drop(dfc.loc[dfc['region']=='TotalUS'].index, axis=0)"
   ]
  },
  {
   "cell_type": "code",
   "execution_count": 36,
   "metadata": {},
   "outputs": [
    {
     "data": {
      "text/plain": [
       "<matplotlib.axes._subplots.AxesSubplot at 0x13c96a8be88>"
      ]
     },
     "execution_count": 36,
     "metadata": {},
     "output_type": "execute_result"
    },
    {
     "data": {
      "image/png": "[encoded data removed]",
      "text/plain": [
       "<Figure size 720x576 with 1 Axes>"
      ]
     },
     "metadata": {
      "needs_background": "light"
     },
     "output_type": "display_data"
    }
   ],
   "source": [
    "#checking for outliers\n",
    "plt.figure(figsize=(10,8))\n",
    "sns.boxplot(x=dfc['Total Volume'], orient='v' )"
   ]
  },
  {
   "cell_type": "markdown",
   "metadata": {},
   "source": [
    "### Removing skewness"
   ]
  },
  {
   "cell_type": "code",
   "execution_count": 37,
   "metadata": {},
   "outputs": [
    {
     "data": {
      "text/plain": [
       "AveragePrice   -0.124174\n",
       "Total Volume    2.298999\n",
       "Total Bags      3.349434\n",
       "Small Bags      3.540428\n",
       "Large Bags      4.395406\n",
       "XLarge Bags     6.750071\n",
       "year            1.801500\n",
       "dtype: float64"
      ]
     },
     "execution_count": 37,
     "metadata": {},
     "output_type": "execute_result"
    }
   ],
   "source": [
    "#checking out skewness of data\n",
    "dfc.skew()"
   ]
  },
  {
   "cell_type": "code",
   "execution_count": 38,
   "metadata": {},
   "outputs": [
    {
     "data": {
      "text/html": [
       "<div>\n",
       "<style scoped>\n",
       "    .dataframe tbody tr th:only-of-type {\n",
       "        vertical-align: middle;\n",
       "    }\n",
       "\n",
       "    .dataframe tbody tr th {\n",
       "        vertical-align: top;\n",
       "    }\n",
       "\n",
       "    .dataframe thead th {\n",
       "        text-align: right;\n",
       "    }\n",
       "</style>\n",
       "<table border=\"1\" class=\"dataframe\">\n",
       "  <thead>\n",
       "    <tr style=\"text-align: right;\">\n",
       "      <th></th>\n",
       "      <th>AveragePrice</th>\n",
       "      <th>Total Volume</th>\n",
       "      <th>Total Bags</th>\n",
       "      <th>Small Bags</th>\n",
       "      <th>Large Bags</th>\n",
       "      <th>XLarge Bags</th>\n",
       "      <th>year</th>\n",
       "      <th>region</th>\n",
       "    </tr>\n",
       "  </thead>\n",
       "  <tbody>\n",
       "    <tr>\n",
       "      <th>0</th>\n",
       "      <td>1.33</td>\n",
       "      <td>64236.62</td>\n",
       "      <td>8696.87</td>\n",
       "      <td>8603.62</td>\n",
       "      <td>93.25</td>\n",
       "      <td>0.0</td>\n",
       "      <td>2015</td>\n",
       "      <td>Albany</td>\n",
       "    </tr>\n",
       "    <tr>\n",
       "      <th>1</th>\n",
       "      <td>1.35</td>\n",
       "      <td>54876.98</td>\n",
       "      <td>9505.56</td>\n",
       "      <td>9408.07</td>\n",
       "      <td>97.49</td>\n",
       "      <td>0.0</td>\n",
       "      <td>2015</td>\n",
       "      <td>Albany</td>\n",
       "    </tr>\n",
       "    <tr>\n",
       "      <th>2</th>\n",
       "      <td>0.93</td>\n",
       "      <td>118220.22</td>\n",
       "      <td>8145.35</td>\n",
       "      <td>8042.21</td>\n",
       "      <td>103.14</td>\n",
       "      <td>0.0</td>\n",
       "      <td>2015</td>\n",
       "      <td>Albany</td>\n",
       "    </tr>\n",
       "    <tr>\n",
       "      <th>3</th>\n",
       "      <td>1.08</td>\n",
       "      <td>78992.15</td>\n",
       "      <td>5811.16</td>\n",
       "      <td>5677.40</td>\n",
       "      <td>133.76</td>\n",
       "      <td>0.0</td>\n",
       "      <td>2015</td>\n",
       "      <td>Albany</td>\n",
       "    </tr>\n",
       "    <tr>\n",
       "      <th>4</th>\n",
       "      <td>1.28</td>\n",
       "      <td>51039.60</td>\n",
       "      <td>6183.95</td>\n",
       "      <td>5986.26</td>\n",
       "      <td>197.69</td>\n",
       "      <td>0.0</td>\n",
       "      <td>2015</td>\n",
       "      <td>Albany</td>\n",
       "    </tr>\n",
       "  </tbody>\n",
       "</table>\n",
       "</div>"
      ],
      "text/plain": [
       "   AveragePrice  Total Volume  Total Bags  Small Bags  Large Bags  \\\n",
       "0          1.33      64236.62     8696.87     8603.62       93.25   \n",
       "1          1.35      54876.98     9505.56     9408.07       97.49   \n",
       "2          0.93     118220.22     8145.35     8042.21      103.14   \n",
       "3          1.08      78992.15     5811.16     5677.40      133.76   \n",
       "4          1.28      51039.60     6183.95     5986.26      197.69   \n",
       "\n",
       "   XLarge Bags  year  region  \n",
       "0          0.0  2015  Albany  \n",
       "1          0.0  2015  Albany  \n",
       "2          0.0  2015  Albany  \n",
       "3          0.0  2015  Albany  \n",
       "4          0.0  2015  Albany  "
      ]
     },
     "execution_count": 38,
     "metadata": {},
     "output_type": "execute_result"
    }
   ],
   "source": [
    "dfc.head()"
   ]
  },
  {
   "cell_type": "code",
   "execution_count": 39,
   "metadata": {},
   "outputs": [],
   "source": [
    "#removing skewness\n",
    "l=['AveragePrice','Total Volume','Total Bags','Small Bags','Large Bags','XLarge Bags']\n",
    "for i in l:\n",
    "    while dfc[i].skew()>0.55:\n",
    "        dfc[i] = np.log1p(dfc[i]) \n",
    "        "
   ]
  },
  {
   "cell_type": "code",
   "execution_count": 40,
   "metadata": {},
   "outputs": [
    {
     "data": {
      "text/plain": [
       "AveragePrice   -0.124174\n",
       "Total Volume    0.450803\n",
       "Total Bags      0.490063\n",
       "Small Bags      0.518899\n",
       "Large Bags     -0.969357\n",
       "XLarge Bags     0.381530\n",
       "year            1.801500\n",
       "dtype: float64"
      ]
     },
     "execution_count": 40,
     "metadata": {},
     "output_type": "execute_result"
    }
   ],
   "source": [
    "dfc.skew()"
   ]
  },
  {
   "cell_type": "code",
   "execution_count": 41,
   "metadata": {},
   "outputs": [],
   "source": [
    "#removing remnant skewness\n",
    "dfc['Large Bags'] = np.square(dfc['Large Bags'])"
   ]
  },
  {
   "cell_type": "code",
   "execution_count": 42,
   "metadata": {},
   "outputs": [
    {
     "data": {
      "text/plain": [
       "AveragePrice   -0.124174\n",
       "Total Volume    0.450803\n",
       "Total Bags      0.490063\n",
       "Small Bags      0.518899\n",
       "Large Bags      0.040331\n",
       "XLarge Bags     0.381530\n",
       "year            1.801500\n",
       "dtype: float64"
      ]
     },
     "execution_count": 42,
     "metadata": {},
     "output_type": "execute_result"
    }
   ],
   "source": [
    "#again checking out skewness\n",
    "dfc.skew()"
   ]
  },
  {
   "cell_type": "code",
   "execution_count": 43,
   "metadata": {},
   "outputs": [
    {
     "data": {
      "text/html": [
       "<div>\n",
       "<style scoped>\n",
       "    .dataframe tbody tr th:only-of-type {\n",
       "        vertical-align: middle;\n",
       "    }\n",
       "\n",
       "    .dataframe tbody tr th {\n",
       "        vertical-align: top;\n",
       "    }\n",
       "\n",
       "    .dataframe thead th {\n",
       "        text-align: right;\n",
       "    }\n",
       "</style>\n",
       "<table border=\"1\" class=\"dataframe\">\n",
       "  <thead>\n",
       "    <tr style=\"text-align: right;\">\n",
       "      <th></th>\n",
       "      <th>AveragePrice</th>\n",
       "      <th>Total Volume</th>\n",
       "      <th>Total Bags</th>\n",
       "      <th>Small Bags</th>\n",
       "      <th>Large Bags</th>\n",
       "      <th>XLarge Bags</th>\n",
       "      <th>year</th>\n",
       "      <th>region</th>\n",
       "    </tr>\n",
       "  </thead>\n",
       "  <tbody>\n",
       "    <tr>\n",
       "      <th>0</th>\n",
       "      <td>1.33</td>\n",
       "      <td>11.070344</td>\n",
       "      <td>9.070833</td>\n",
       "      <td>9.060055</td>\n",
       "      <td>20.665669</td>\n",
       "      <td>0.0</td>\n",
       "      <td>2015</td>\n",
       "      <td>Albany</td>\n",
       "    </tr>\n",
       "    <tr>\n",
       "      <th>1</th>\n",
       "      <td>1.35</td>\n",
       "      <td>10.912867</td>\n",
       "      <td>9.159737</td>\n",
       "      <td>9.149429</td>\n",
       "      <td>21.067687</td>\n",
       "      <td>0.0</td>\n",
       "      <td>2015</td>\n",
       "      <td>Albany</td>\n",
       "    </tr>\n",
       "    <tr>\n",
       "      <th>2</th>\n",
       "      <td>0.93</td>\n",
       "      <td>11.680313</td>\n",
       "      <td>9.005325</td>\n",
       "      <td>8.992584</td>\n",
       "      <td>21.582864</td>\n",
       "      <td>0.0</td>\n",
       "      <td>2015</td>\n",
       "      <td>Albany</td>\n",
       "    </tr>\n",
       "    <tr>\n",
       "      <th>3</th>\n",
       "      <td>1.08</td>\n",
       "      <td>11.277116</td>\n",
       "      <td>8.667708</td>\n",
       "      <td>8.644425</td>\n",
       "      <td>24.044267</td>\n",
       "      <td>0.0</td>\n",
       "      <td>2015</td>\n",
       "      <td>Albany</td>\n",
       "    </tr>\n",
       "    <tr>\n",
       "      <th>4</th>\n",
       "      <td>1.28</td>\n",
       "      <td>10.840377</td>\n",
       "      <td>8.729874</td>\n",
       "      <td>8.697389</td>\n",
       "      <td>28.002574</td>\n",
       "      <td>0.0</td>\n",
       "      <td>2015</td>\n",
       "      <td>Albany</td>\n",
       "    </tr>\n",
       "  </tbody>\n",
       "</table>\n",
       "</div>"
      ],
      "text/plain": [
       "   AveragePrice  Total Volume  Total Bags  Small Bags  Large Bags  \\\n",
       "0          1.33     11.070344    9.070833    9.060055   20.665669   \n",
       "1          1.35     10.912867    9.159737    9.149429   21.067687   \n",
       "2          0.93     11.680313    9.005325    8.992584   21.582864   \n",
       "3          1.08     11.277116    8.667708    8.644425   24.044267   \n",
       "4          1.28     10.840377    8.729874    8.697389   28.002574   \n",
       "\n",
       "   XLarge Bags  year  region  \n",
       "0          0.0  2015  Albany  \n",
       "1          0.0  2015  Albany  \n",
       "2          0.0  2015  Albany  \n",
       "3          0.0  2015  Albany  \n",
       "4          0.0  2015  Albany  "
      ]
     },
     "execution_count": 43,
     "metadata": {},
     "output_type": "execute_result"
    }
   ],
   "source": [
    "fg = dfc.copy()\n",
    "ab = dfc.copy()\n",
    "fg.head()"
   ]
  },
  {
   "cell_type": "markdown",
   "metadata": {},
   "source": [
    "### Converting string values to dummy variables"
   ]
  },
  {
   "cell_type": "code",
   "execution_count": 44,
   "metadata": {},
   "outputs": [],
   "source": [
    "from sklearn.preprocessing import LabelEncoder\n",
    "le = LabelEncoder()\n",
    "fg['region'] = le.fit_transform(fg['region'])"
   ]
  },
  {
   "cell_type": "code",
   "execution_count": 45,
   "metadata": {},
   "outputs": [
    {
     "data": {
      "text/html": [
       "<div>\n",
       "<style scoped>\n",
       "    .dataframe tbody tr th:only-of-type {\n",
       "        vertical-align: middle;\n",
       "    }\n",
       "\n",
       "    .dataframe tbody tr th {\n",
       "        vertical-align: top;\n",
       "    }\n",
       "\n",
       "    .dataframe thead th {\n",
       "        text-align: right;\n",
       "    }\n",
       "</style>\n",
       "<table border=\"1\" class=\"dataframe\">\n",
       "  <thead>\n",
       "    <tr style=\"text-align: right;\">\n",
       "      <th></th>\n",
       "      <th>AveragePrice</th>\n",
       "      <th>Total Volume</th>\n",
       "      <th>Total Bags</th>\n",
       "      <th>Small Bags</th>\n",
       "      <th>Large Bags</th>\n",
       "      <th>XLarge Bags</th>\n",
       "      <th>year</th>\n",
       "      <th>region</th>\n",
       "    </tr>\n",
       "  </thead>\n",
       "  <tbody>\n",
       "    <tr>\n",
       "      <th>0</th>\n",
       "      <td>1.33</td>\n",
       "      <td>11.070344</td>\n",
       "      <td>9.070833</td>\n",
       "      <td>9.060055</td>\n",
       "      <td>20.665669</td>\n",
       "      <td>0.0</td>\n",
       "      <td>2015</td>\n",
       "      <td>0</td>\n",
       "    </tr>\n",
       "    <tr>\n",
       "      <th>1</th>\n",
       "      <td>1.35</td>\n",
       "      <td>10.912867</td>\n",
       "      <td>9.159737</td>\n",
       "      <td>9.149429</td>\n",
       "      <td>21.067687</td>\n",
       "      <td>0.0</td>\n",
       "      <td>2015</td>\n",
       "      <td>0</td>\n",
       "    </tr>\n",
       "    <tr>\n",
       "      <th>2</th>\n",
       "      <td>0.93</td>\n",
       "      <td>11.680313</td>\n",
       "      <td>9.005325</td>\n",
       "      <td>8.992584</td>\n",
       "      <td>21.582864</td>\n",
       "      <td>0.0</td>\n",
       "      <td>2015</td>\n",
       "      <td>0</td>\n",
       "    </tr>\n",
       "    <tr>\n",
       "      <th>3</th>\n",
       "      <td>1.08</td>\n",
       "      <td>11.277116</td>\n",
       "      <td>8.667708</td>\n",
       "      <td>8.644425</td>\n",
       "      <td>24.044267</td>\n",
       "      <td>0.0</td>\n",
       "      <td>2015</td>\n",
       "      <td>0</td>\n",
       "    </tr>\n",
       "    <tr>\n",
       "      <th>4</th>\n",
       "      <td>1.28</td>\n",
       "      <td>10.840377</td>\n",
       "      <td>8.729874</td>\n",
       "      <td>8.697389</td>\n",
       "      <td>28.002574</td>\n",
       "      <td>0.0</td>\n",
       "      <td>2015</td>\n",
       "      <td>0</td>\n",
       "    </tr>\n",
       "  </tbody>\n",
       "</table>\n",
       "</div>"
      ],
      "text/plain": [
       "   AveragePrice  Total Volume  Total Bags  Small Bags  Large Bags  \\\n",
       "0          1.33     11.070344    9.070833    9.060055   20.665669   \n",
       "1          1.35     10.912867    9.159737    9.149429   21.067687   \n",
       "2          0.93     11.680313    9.005325    8.992584   21.582864   \n",
       "3          1.08     11.277116    8.667708    8.644425   24.044267   \n",
       "4          1.28     10.840377    8.729874    8.697389   28.002574   \n",
       "\n",
       "   XLarge Bags  year  region  \n",
       "0          0.0  2015       0  \n",
       "1          0.0  2015       0  \n",
       "2          0.0  2015       0  \n",
       "3          0.0  2015       0  \n",
       "4          0.0  2015       0  "
      ]
     },
     "execution_count": 45,
     "metadata": {},
     "output_type": "execute_result"
    }
   ],
   "source": [
    "fg.head()"
   ]
  },
  {
   "cell_type": "code",
   "execution_count": 46,
   "metadata": {},
   "outputs": [
    {
     "data": {
      "text/html": [
       "<div>\n",
       "<style scoped>\n",
       "    .dataframe tbody tr th:only-of-type {\n",
       "        vertical-align: middle;\n",
       "    }\n",
       "\n",
       "    .dataframe tbody tr th {\n",
       "        vertical-align: top;\n",
       "    }\n",
       "\n",
       "    .dataframe thead th {\n",
       "        text-align: right;\n",
       "    }\n",
       "</style>\n",
       "<table border=\"1\" class=\"dataframe\">\n",
       "  <thead>\n",
       "    <tr style=\"text-align: right;\">\n",
       "      <th></th>\n",
       "      <th>AveragePrice</th>\n",
       "      <th>Total Volume</th>\n",
       "      <th>Total Bags</th>\n",
       "      <th>Small Bags</th>\n",
       "      <th>Large Bags</th>\n",
       "      <th>XLarge Bags</th>\n",
       "      <th>year</th>\n",
       "      <th>region</th>\n",
       "      <th>0</th>\n",
       "      <th>1</th>\n",
       "      <th>...</th>\n",
       "      <th>40</th>\n",
       "      <th>41</th>\n",
       "      <th>42</th>\n",
       "      <th>43</th>\n",
       "      <th>44</th>\n",
       "      <th>45</th>\n",
       "      <th>46</th>\n",
       "      <th>47</th>\n",
       "      <th>48</th>\n",
       "      <th>49</th>\n",
       "    </tr>\n",
       "  </thead>\n",
       "  <tbody>\n",
       "    <tr>\n",
       "      <th>0</th>\n",
       "      <td>1.33</td>\n",
       "      <td>11.070344</td>\n",
       "      <td>9.070833</td>\n",
       "      <td>9.060055</td>\n",
       "      <td>20.665669</td>\n",
       "      <td>0.0</td>\n",
       "      <td>2015</td>\n",
       "      <td>0</td>\n",
       "      <td>1</td>\n",
       "      <td>0</td>\n",
       "      <td>...</td>\n",
       "      <td>0</td>\n",
       "      <td>0</td>\n",
       "      <td>0</td>\n",
       "      <td>0</td>\n",
       "      <td>0</td>\n",
       "      <td>0</td>\n",
       "      <td>0</td>\n",
       "      <td>0</td>\n",
       "      <td>0</td>\n",
       "      <td>0</td>\n",
       "    </tr>\n",
       "    <tr>\n",
       "      <th>1</th>\n",
       "      <td>1.35</td>\n",
       "      <td>10.912867</td>\n",
       "      <td>9.159737</td>\n",
       "      <td>9.149429</td>\n",
       "      <td>21.067687</td>\n",
       "      <td>0.0</td>\n",
       "      <td>2015</td>\n",
       "      <td>0</td>\n",
       "      <td>1</td>\n",
       "      <td>0</td>\n",
       "      <td>...</td>\n",
       "      <td>0</td>\n",
       "      <td>0</td>\n",
       "      <td>0</td>\n",
       "      <td>0</td>\n",
       "      <td>0</td>\n",
       "      <td>0</td>\n",
       "      <td>0</td>\n",
       "      <td>0</td>\n",
       "      <td>0</td>\n",
       "      <td>0</td>\n",
       "    </tr>\n",
       "    <tr>\n",
       "      <th>2</th>\n",
       "      <td>0.93</td>\n",
       "      <td>11.680313</td>\n",
       "      <td>9.005325</td>\n",
       "      <td>8.992584</td>\n",
       "      <td>21.582864</td>\n",
       "      <td>0.0</td>\n",
       "      <td>2015</td>\n",
       "      <td>0</td>\n",
       "      <td>1</td>\n",
       "      <td>0</td>\n",
       "      <td>...</td>\n",
       "      <td>0</td>\n",
       "      <td>0</td>\n",
       "      <td>0</td>\n",
       "      <td>0</td>\n",
       "      <td>0</td>\n",
       "      <td>0</td>\n",
       "      <td>0</td>\n",
       "      <td>0</td>\n",
       "      <td>0</td>\n",
       "      <td>0</td>\n",
       "    </tr>\n",
       "    <tr>\n",
       "      <th>3</th>\n",
       "      <td>1.08</td>\n",
       "      <td>11.277116</td>\n",
       "      <td>8.667708</td>\n",
       "      <td>8.644425</td>\n",
       "      <td>24.044267</td>\n",
       "      <td>0.0</td>\n",
       "      <td>2015</td>\n",
       "      <td>0</td>\n",
       "      <td>1</td>\n",
       "      <td>0</td>\n",
       "      <td>...</td>\n",
       "      <td>0</td>\n",
       "      <td>0</td>\n",
       "      <td>0</td>\n",
       "      <td>0</td>\n",
       "      <td>0</td>\n",
       "      <td>0</td>\n",
       "      <td>0</td>\n",
       "      <td>0</td>\n",
       "      <td>0</td>\n",
       "      <td>0</td>\n",
       "    </tr>\n",
       "    <tr>\n",
       "      <th>4</th>\n",
       "      <td>1.28</td>\n",
       "      <td>10.840377</td>\n",
       "      <td>8.729874</td>\n",
       "      <td>8.697389</td>\n",
       "      <td>28.002574</td>\n",
       "      <td>0.0</td>\n",
       "      <td>2015</td>\n",
       "      <td>0</td>\n",
       "      <td>1</td>\n",
       "      <td>0</td>\n",
       "      <td>...</td>\n",
       "      <td>0</td>\n",
       "      <td>0</td>\n",
       "      <td>0</td>\n",
       "      <td>0</td>\n",
       "      <td>0</td>\n",
       "      <td>0</td>\n",
       "      <td>0</td>\n",
       "      <td>0</td>\n",
       "      <td>0</td>\n",
       "      <td>0</td>\n",
       "    </tr>\n",
       "  </tbody>\n",
       "</table>\n",
       "<p>5 rows × 58 columns</p>\n",
       "</div>"
      ],
      "text/plain": [
       "   AveragePrice  Total Volume  Total Bags  Small Bags  Large Bags  \\\n",
       "0          1.33     11.070344    9.070833    9.060055   20.665669   \n",
       "1          1.35     10.912867    9.159737    9.149429   21.067687   \n",
       "2          0.93     11.680313    9.005325    8.992584   21.582864   \n",
       "3          1.08     11.277116    8.667708    8.644425   24.044267   \n",
       "4          1.28     10.840377    8.729874    8.697389   28.002574   \n",
       "\n",
       "   XLarge Bags  year  region  0  1  ...  40  41  42  43  44  45  46  47  48  \\\n",
       "0          0.0  2015       0  1  0  ...   0   0   0   0   0   0   0   0   0   \n",
       "1          0.0  2015       0  1  0  ...   0   0   0   0   0   0   0   0   0   \n",
       "2          0.0  2015       0  1  0  ...   0   0   0   0   0   0   0   0   0   \n",
       "3          0.0  2015       0  1  0  ...   0   0   0   0   0   0   0   0   0   \n",
       "4          0.0  2015       0  1  0  ...   0   0   0   0   0   0   0   0   0   \n",
       "\n",
       "   49  \n",
       "0   0  \n",
       "1   0  \n",
       "2   0  \n",
       "3   0  \n",
       "4   0  \n",
       "\n",
       "[5 rows x 58 columns]"
      ]
     },
     "execution_count": 46,
     "metadata": {},
     "output_type": "execute_result"
    }
   ],
   "source": [
    "#one hot encoding\n",
    "cd = pd.get_dummies(fg['region'])\n",
    "fg = pd.concat([fg,cd], axis=1)\n",
    "fg.head()"
   ]
  },
  {
   "cell_type": "code",
   "execution_count": 47,
   "metadata": {},
   "outputs": [],
   "source": [
    "#removing unwanted region column\n",
    "fg = fg.drop(['region'], axis=1)"
   ]
  },
  {
   "cell_type": "markdown",
   "metadata": {},
   "source": [
    "### Splitting Data into Training and Test Sets"
   ]
  },
  {
   "cell_type": "code",
   "execution_count": 48,
   "metadata": {},
   "outputs": [],
   "source": [
    "X = fg.drop(['AveragePrice'],axis=1)\n",
    "y = fg['AveragePrice']"
   ]
  },
  {
   "cell_type": "code",
   "execution_count": 49,
   "metadata": {},
   "outputs": [],
   "source": [
    "from sklearn.model_selection import train_test_split"
   ]
  },
  {
   "cell_type": "code",
   "execution_count": 50,
   "metadata": {},
   "outputs": [],
   "source": [
    "X_train, X_test, y_train, y_test = train_test_split(X, y, test_size=0.3)"
   ]
  },
  {
   "cell_type": "markdown",
   "metadata": {},
   "source": [
    "### Standard Scaling"
   ]
  },
  {
   "cell_type": "code",
   "execution_count": 51,
   "metadata": {},
   "outputs": [
    {
     "data": {
      "text/plain": [
       "StandardScaler(copy=True, with_mean=True, with_std=True)"
      ]
     },
     "execution_count": 51,
     "metadata": {},
     "output_type": "execute_result"
    }
   ],
   "source": [
    "#standard scaling on dataframe without region column\n",
    "from sklearn.preprocessing import StandardScaler\n",
    "scaler = StandardScaler()\n",
    "\n",
    "#fitting on training set only\n",
    "scaler.fit(X_train)"
   ]
  },
  {
   "cell_type": "code",
   "execution_count": 52,
   "metadata": {},
   "outputs": [],
   "source": [
    "#transforming training and testing set\n",
    "l=[]\n",
    "for i in X.columns:\n",
    "    l.append(i)\n",
    "    \n",
    "scaled_train = pd.DataFrame(scaler.transform(X_train), columns=l)\n",
    "scaled_test = pd.DataFrame(scaler.transform(X_test), columns=l)"
   ]
  },
  {
   "cell_type": "code",
   "execution_count": 53,
   "metadata": {},
   "outputs": [
    {
     "data": {
      "text/html": [
       "<div>\n",
       "<style scoped>\n",
       "    .dataframe tbody tr th:only-of-type {\n",
       "        vertical-align: middle;\n",
       "    }\n",
       "\n",
       "    .dataframe tbody tr th {\n",
       "        vertical-align: top;\n",
       "    }\n",
       "\n",
       "    .dataframe thead th {\n",
       "        text-align: right;\n",
       "    }\n",
       "</style>\n",
       "<table border=\"1\" class=\"dataframe\">\n",
       "  <thead>\n",
       "    <tr style=\"text-align: right;\">\n",
       "      <th></th>\n",
       "      <th>Total Volume</th>\n",
       "      <th>Total Bags</th>\n",
       "      <th>Small Bags</th>\n",
       "      <th>Large Bags</th>\n",
       "      <th>XLarge Bags</th>\n",
       "      <th>year</th>\n",
       "      <th>0</th>\n",
       "      <th>1</th>\n",
       "      <th>2</th>\n",
       "      <th>3</th>\n",
       "      <th>...</th>\n",
       "      <th>40</th>\n",
       "      <th>41</th>\n",
       "      <th>42</th>\n",
       "      <th>43</th>\n",
       "      <th>44</th>\n",
       "      <th>45</th>\n",
       "      <th>46</th>\n",
       "      <th>47</th>\n",
       "      <th>48</th>\n",
       "      <th>49</th>\n",
       "    </tr>\n",
       "  </thead>\n",
       "  <tbody>\n",
       "    <tr>\n",
       "      <th>0</th>\n",
       "      <td>-0.685344</td>\n",
       "      <td>-0.167841</td>\n",
       "      <td>-0.053201</td>\n",
       "      <td>-0.192877</td>\n",
       "      <td>0.685827</td>\n",
       "      <td>-0.459496</td>\n",
       "      <td>-0.214691</td>\n",
       "      <td>-0.199601</td>\n",
       "      <td>-0.219529</td>\n",
       "      <td>-0.219529</td>\n",
       "      <td>...</td>\n",
       "      <td>-0.08216</td>\n",
       "      <td>-0.128659</td>\n",
       "      <td>-0.159813</td>\n",
       "      <td>-0.08216</td>\n",
       "      <td>-0.186247</td>\n",
       "      <td>-0.103192</td>\n",
       "      <td>-0.116586</td>\n",
       "      <td>-0.159813</td>\n",
       "      <td>-0.166009</td>\n",
       "      <td>-0.132453</td>\n",
       "    </tr>\n",
       "    <tr>\n",
       "      <th>1</th>\n",
       "      <td>2.061298</td>\n",
       "      <td>1.879458</td>\n",
       "      <td>1.754623</td>\n",
       "      <td>1.937706</td>\n",
       "      <td>0.617736</td>\n",
       "      <td>-0.459496</td>\n",
       "      <td>-0.214691</td>\n",
       "      <td>-0.199601</td>\n",
       "      <td>-0.219529</td>\n",
       "      <td>-0.219529</td>\n",
       "      <td>...</td>\n",
       "      <td>-0.08216</td>\n",
       "      <td>-0.128659</td>\n",
       "      <td>-0.159813</td>\n",
       "      <td>-0.08216</td>\n",
       "      <td>-0.186247</td>\n",
       "      <td>-0.103192</td>\n",
       "      <td>-0.116586</td>\n",
       "      <td>-0.159813</td>\n",
       "      <td>6.023762</td>\n",
       "      <td>-0.132453</td>\n",
       "    </tr>\n",
       "    <tr>\n",
       "      <th>2</th>\n",
       "      <td>0.469303</td>\n",
       "      <td>0.633041</td>\n",
       "      <td>0.762969</td>\n",
       "      <td>-0.227706</td>\n",
       "      <td>-0.894092</td>\n",
       "      <td>2.176296</td>\n",
       "      <td>-0.214691</td>\n",
       "      <td>-0.199601</td>\n",
       "      <td>4.555217</td>\n",
       "      <td>-0.219529</td>\n",
       "      <td>...</td>\n",
       "      <td>-0.08216</td>\n",
       "      <td>-0.128659</td>\n",
       "      <td>-0.159813</td>\n",
       "      <td>-0.08216</td>\n",
       "      <td>-0.186247</td>\n",
       "      <td>-0.103192</td>\n",
       "      <td>-0.116586</td>\n",
       "      <td>-0.159813</td>\n",
       "      <td>-0.166009</td>\n",
       "      <td>-0.132453</td>\n",
       "    </tr>\n",
       "    <tr>\n",
       "      <th>3</th>\n",
       "      <td>0.952122</td>\n",
       "      <td>0.794122</td>\n",
       "      <td>0.927252</td>\n",
       "      <td>-0.593485</td>\n",
       "      <td>1.225247</td>\n",
       "      <td>-0.459496</td>\n",
       "      <td>-0.214691</td>\n",
       "      <td>-0.199601</td>\n",
       "      <td>-0.219529</td>\n",
       "      <td>-0.219529</td>\n",
       "      <td>...</td>\n",
       "      <td>-0.08216</td>\n",
       "      <td>-0.128659</td>\n",
       "      <td>-0.159813</td>\n",
       "      <td>-0.08216</td>\n",
       "      <td>-0.186247</td>\n",
       "      <td>-0.103192</td>\n",
       "      <td>-0.116586</td>\n",
       "      <td>-0.159813</td>\n",
       "      <td>-0.166009</td>\n",
       "      <td>-0.132453</td>\n",
       "    </tr>\n",
       "    <tr>\n",
       "      <th>4</th>\n",
       "      <td>0.021617</td>\n",
       "      <td>0.153841</td>\n",
       "      <td>-0.033735</td>\n",
       "      <td>0.880243</td>\n",
       "      <td>-0.894092</td>\n",
       "      <td>-0.459496</td>\n",
       "      <td>-0.214691</td>\n",
       "      <td>-0.199601</td>\n",
       "      <td>-0.219529</td>\n",
       "      <td>-0.219529</td>\n",
       "      <td>...</td>\n",
       "      <td>-0.08216</td>\n",
       "      <td>-0.128659</td>\n",
       "      <td>-0.159813</td>\n",
       "      <td>-0.08216</td>\n",
       "      <td>-0.186247</td>\n",
       "      <td>-0.103192</td>\n",
       "      <td>-0.116586</td>\n",
       "      <td>6.257303</td>\n",
       "      <td>-0.166009</td>\n",
       "      <td>-0.132453</td>\n",
       "    </tr>\n",
       "    <tr>\n",
       "      <th>...</th>\n",
       "      <td>...</td>\n",
       "      <td>...</td>\n",
       "      <td>...</td>\n",
       "      <td>...</td>\n",
       "      <td>...</td>\n",
       "      <td>...</td>\n",
       "      <td>...</td>\n",
       "      <td>...</td>\n",
       "      <td>...</td>\n",
       "      <td>...</td>\n",
       "      <td>...</td>\n",
       "      <td>...</td>\n",
       "      <td>...</td>\n",
       "      <td>...</td>\n",
       "      <td>...</td>\n",
       "      <td>...</td>\n",
       "      <td>...</td>\n",
       "      <td>...</td>\n",
       "      <td>...</td>\n",
       "      <td>...</td>\n",
       "      <td>...</td>\n",
       "    </tr>\n",
       "    <tr>\n",
       "      <th>1039</th>\n",
       "      <td>-1.336271</td>\n",
       "      <td>-1.143829</td>\n",
       "      <td>-1.414413</td>\n",
       "      <td>0.134342</td>\n",
       "      <td>1.297017</td>\n",
       "      <td>-0.459496</td>\n",
       "      <td>-0.214691</td>\n",
       "      <td>-0.199601</td>\n",
       "      <td>-0.219529</td>\n",
       "      <td>-0.219529</td>\n",
       "      <td>...</td>\n",
       "      <td>-0.08216</td>\n",
       "      <td>-0.128659</td>\n",
       "      <td>-0.159813</td>\n",
       "      <td>-0.08216</td>\n",
       "      <td>-0.186247</td>\n",
       "      <td>-0.103192</td>\n",
       "      <td>-0.116586</td>\n",
       "      <td>-0.159813</td>\n",
       "      <td>-0.166009</td>\n",
       "      <td>-0.132453</td>\n",
       "    </tr>\n",
       "    <tr>\n",
       "      <th>1040</th>\n",
       "      <td>1.946519</td>\n",
       "      <td>1.857736</td>\n",
       "      <td>1.757186</td>\n",
       "      <td>1.873498</td>\n",
       "      <td>0.531883</td>\n",
       "      <td>-0.459496</td>\n",
       "      <td>-0.214691</td>\n",
       "      <td>-0.199601</td>\n",
       "      <td>-0.219529</td>\n",
       "      <td>-0.219529</td>\n",
       "      <td>...</td>\n",
       "      <td>-0.08216</td>\n",
       "      <td>-0.128659</td>\n",
       "      <td>-0.159813</td>\n",
       "      <td>-0.08216</td>\n",
       "      <td>-0.186247</td>\n",
       "      <td>-0.103192</td>\n",
       "      <td>-0.116586</td>\n",
       "      <td>-0.159813</td>\n",
       "      <td>6.023762</td>\n",
       "      <td>-0.132453</td>\n",
       "    </tr>\n",
       "    <tr>\n",
       "      <th>1041</th>\n",
       "      <td>0.545177</td>\n",
       "      <td>-0.056427</td>\n",
       "      <td>0.074501</td>\n",
       "      <td>-0.393995</td>\n",
       "      <td>-0.894092</td>\n",
       "      <td>-0.459496</td>\n",
       "      <td>-0.214691</td>\n",
       "      <td>-0.199601</td>\n",
       "      <td>-0.219529</td>\n",
       "      <td>-0.219529</td>\n",
       "      <td>...</td>\n",
       "      <td>-0.08216</td>\n",
       "      <td>-0.128659</td>\n",
       "      <td>-0.159813</td>\n",
       "      <td>-0.08216</td>\n",
       "      <td>-0.186247</td>\n",
       "      <td>-0.103192</td>\n",
       "      <td>-0.116586</td>\n",
       "      <td>-0.159813</td>\n",
       "      <td>-0.166009</td>\n",
       "      <td>-0.132453</td>\n",
       "    </tr>\n",
       "    <tr>\n",
       "      <th>1042</th>\n",
       "      <td>-0.799467</td>\n",
       "      <td>-0.468869</td>\n",
       "      <td>-0.445364</td>\n",
       "      <td>0.155558</td>\n",
       "      <td>-0.894092</td>\n",
       "      <td>2.176296</td>\n",
       "      <td>-0.214691</td>\n",
       "      <td>-0.199601</td>\n",
       "      <td>-0.219529</td>\n",
       "      <td>-0.219529</td>\n",
       "      <td>...</td>\n",
       "      <td>-0.08216</td>\n",
       "      <td>-0.128659</td>\n",
       "      <td>-0.159813</td>\n",
       "      <td>-0.08216</td>\n",
       "      <td>-0.186247</td>\n",
       "      <td>-0.103192</td>\n",
       "      <td>-0.116586</td>\n",
       "      <td>-0.159813</td>\n",
       "      <td>-0.166009</td>\n",
       "      <td>-0.132453</td>\n",
       "    </tr>\n",
       "    <tr>\n",
       "      <th>1043</th>\n",
       "      <td>-0.808924</td>\n",
       "      <td>-0.648012</td>\n",
       "      <td>-0.521476</td>\n",
       "      <td>-0.488078</td>\n",
       "      <td>-0.894092</td>\n",
       "      <td>-0.459496</td>\n",
       "      <td>-0.214691</td>\n",
       "      <td>-0.199601</td>\n",
       "      <td>-0.219529</td>\n",
       "      <td>-0.219529</td>\n",
       "      <td>...</td>\n",
       "      <td>-0.08216</td>\n",
       "      <td>-0.128659</td>\n",
       "      <td>-0.159813</td>\n",
       "      <td>-0.08216</td>\n",
       "      <td>-0.186247</td>\n",
       "      <td>-0.103192</td>\n",
       "      <td>-0.116586</td>\n",
       "      <td>-0.159813</td>\n",
       "      <td>-0.166009</td>\n",
       "      <td>-0.132453</td>\n",
       "    </tr>\n",
       "  </tbody>\n",
       "</table>\n",
       "<p>1044 rows × 56 columns</p>\n",
       "</div>"
      ],
      "text/plain": [
       "      Total Volume  Total Bags  Small Bags  Large Bags  XLarge Bags      year  \\\n",
       "0        -0.685344   -0.167841   -0.053201   -0.192877     0.685827 -0.459496   \n",
       "1         2.061298    1.879458    1.754623    1.937706     0.617736 -0.459496   \n",
       "2         0.469303    0.633041    0.762969   -0.227706    -0.894092  2.176296   \n",
       "3         0.952122    0.794122    0.927252   -0.593485     1.225247 -0.459496   \n",
       "4         0.021617    0.153841   -0.033735    0.880243    -0.894092 -0.459496   \n",
       "...            ...         ...         ...         ...          ...       ...   \n",
       "1039     -1.336271   -1.143829   -1.414413    0.134342     1.297017 -0.459496   \n",
       "1040      1.946519    1.857736    1.757186    1.873498     0.531883 -0.459496   \n",
       "1041      0.545177   -0.056427    0.074501   -0.393995    -0.894092 -0.459496   \n",
       "1042     -0.799467   -0.468869   -0.445364    0.155558    -0.894092  2.176296   \n",
       "1043     -0.808924   -0.648012   -0.521476   -0.488078    -0.894092 -0.459496   \n",
       "\n",
       "             0         1         2         3  ...       40        41  \\\n",
       "0    -0.214691 -0.199601 -0.219529 -0.219529  ... -0.08216 -0.128659   \n",
       "1    -0.214691 -0.199601 -0.219529 -0.219529  ... -0.08216 -0.128659   \n",
       "2    -0.214691 -0.199601  4.555217 -0.219529  ... -0.08216 -0.128659   \n",
       "3    -0.214691 -0.199601 -0.219529 -0.219529  ... -0.08216 -0.128659   \n",
       "4    -0.214691 -0.199601 -0.219529 -0.219529  ... -0.08216 -0.128659   \n",
       "...        ...       ...       ...       ...  ...      ...       ...   \n",
       "1039 -0.214691 -0.199601 -0.219529 -0.219529  ... -0.08216 -0.128659   \n",
       "1040 -0.214691 -0.199601 -0.219529 -0.219529  ... -0.08216 -0.128659   \n",
       "1041 -0.214691 -0.199601 -0.219529 -0.219529  ... -0.08216 -0.128659   \n",
       "1042 -0.214691 -0.199601 -0.219529 -0.219529  ... -0.08216 -0.128659   \n",
       "1043 -0.214691 -0.199601 -0.219529 -0.219529  ... -0.08216 -0.128659   \n",
       "\n",
       "            42       43        44        45        46        47        48  \\\n",
       "0    -0.159813 -0.08216 -0.186247 -0.103192 -0.116586 -0.159813 -0.166009   \n",
       "1    -0.159813 -0.08216 -0.186247 -0.103192 -0.116586 -0.159813  6.023762   \n",
       "2    -0.159813 -0.08216 -0.186247 -0.103192 -0.116586 -0.159813 -0.166009   \n",
       "3    -0.159813 -0.08216 -0.186247 -0.103192 -0.116586 -0.159813 -0.166009   \n",
       "4    -0.159813 -0.08216 -0.186247 -0.103192 -0.116586  6.257303 -0.166009   \n",
       "...        ...      ...       ...       ...       ...       ...       ...   \n",
       "1039 -0.159813 -0.08216 -0.186247 -0.103192 -0.116586 -0.159813 -0.166009   \n",
       "1040 -0.159813 -0.08216 -0.186247 -0.103192 -0.116586 -0.159813  6.023762   \n",
       "1041 -0.159813 -0.08216 -0.186247 -0.103192 -0.116586 -0.159813 -0.166009   \n",
       "1042 -0.159813 -0.08216 -0.186247 -0.103192 -0.116586 -0.159813 -0.166009   \n",
       "1043 -0.159813 -0.08216 -0.186247 -0.103192 -0.116586 -0.159813 -0.166009   \n",
       "\n",
       "            49  \n",
       "0    -0.132453  \n",
       "1    -0.132453  \n",
       "2    -0.132453  \n",
       "3    -0.132453  \n",
       "4    -0.132453  \n",
       "...        ...  \n",
       "1039 -0.132453  \n",
       "1040 -0.132453  \n",
       "1041 -0.132453  \n",
       "1042 -0.132453  \n",
       "1043 -0.132453  \n",
       "\n",
       "[1044 rows x 56 columns]"
      ]
     },
     "execution_count": 53,
     "metadata": {},
     "output_type": "execute_result"
    }
   ],
   "source": [
    "scaled_train"
   ]
  },
  {
   "cell_type": "markdown",
   "metadata": {},
   "source": [
    "## PCA"
   ]
  },
  {
   "cell_type": "code",
   "execution_count": 54,
   "metadata": {},
   "outputs": [],
   "source": [
    "from sklearn.decomposition import PCA"
   ]
  },
  {
   "cell_type": "code",
   "execution_count": 55,
   "metadata": {},
   "outputs": [
    {
     "data": {
      "text/plain": [
       "PCA(copy=True, iterated_power='auto', n_components=50, random_state=None,\n",
       "    svd_solver='auto', tol=0.0, whiten=False)"
      ]
     },
     "execution_count": 55,
     "metadata": {},
     "output_type": "execute_result"
    }
   ],
   "source": [
    "pca = PCA(n_components=50)\n",
    "pca.fit(scaled_train)"
   ]
  },
  {
   "cell_type": "code",
   "execution_count": 56,
   "metadata": {},
   "outputs": [
    {
     "name": "stdout",
     "output_type": "stream",
     "text": [
      "[0.08205206 0.03445212 0.02873871 0.02402102 0.01915358 0.01872505\n",
      " 0.01868706 0.01866889 0.01858773 0.01853307 0.01847745 0.01842281\n",
      " 0.0184107  0.01836901 0.0183485  0.01833936 0.0183271  0.01830234\n",
      " 0.01828719 0.01828234 0.01826628 0.01823021 0.01819702 0.01818515\n",
      " 0.01817519 0.01816125 0.0181521  0.01813722 0.0181218  0.01811971\n",
      " 0.01810721 0.01810269 0.0180911  0.01807733 0.01807459 0.01805198\n",
      " 0.0180488  0.01803697 0.01802998 0.01802446 0.01801484 0.01800932\n",
      " 0.01799846 0.01799698 0.017996   0.0179845  0.01798209 0.01798008\n",
      " 0.01791387 0.00507952]\n"
     ]
    }
   ],
   "source": [
    "print(pca.explained_variance_ratio_)"
   ]
  },
  {
   "cell_type": "code",
   "execution_count": 57,
   "metadata": {},
   "outputs": [
    {
     "data": {
      "text/plain": [
       "Text(0, 0.5, 'Proportion of variation explained')"
      ]
     },
     "execution_count": 57,
     "metadata": {},
     "output_type": "execute_result"
    },
    {
     "data": {
      "image/png": "[encoded data removed]",
      "text/plain": [
       "<Figure size 432x288 with 1 Axes>"
      ]
     },
     "metadata": {
      "needs_background": "light"
     },
     "output_type": "display_data"
    }
   ],
   "source": [
    "#Cumulative Variance explains\n",
    "var1=np.cumsum(np.round(pca.explained_variance_ratio_, decimals=4)*100)\n",
    "plt.plot(var1)\n",
    "plt.xlabel('Principal Components')\n",
    "plt.ylabel('Proportion of variation explained')"
   ]
  },
  {
   "cell_type": "raw",
   "metadata": {},
   "source": [
    "From above graph, we can see that it starts levelling off after 50 principal components, so we will \n",
    "choose 50 principal components"
   ]
  },
  {
   "cell_type": "raw",
   "metadata": {},
   "source": [
    "Total proportion of variation explained is approx 99% using 50 principal components"
   ]
  },
  {
   "cell_type": "markdown",
   "metadata": {},
   "source": [
    "### Passing PCA values in a dataframe"
   ]
  },
  {
   "cell_type": "code",
   "execution_count": 58,
   "metadata": {},
   "outputs": [],
   "source": [
    "reduced_train = pd.DataFrame(pca.transform(scaled_train))"
   ]
  },
  {
   "cell_type": "code",
   "execution_count": 59,
   "metadata": {},
   "outputs": [],
   "source": [
    "pca.transform(scaled_test)\n",
    "reduced_test = pd.DataFrame(pca.transform(scaled_test))"
   ]
  },
  {
   "cell_type": "code",
   "execution_count": 60,
   "metadata": {},
   "outputs": [
    {
     "data": {
      "text/html": [
       "<div>\n",
       "<style scoped>\n",
       "    .dataframe tbody tr th:only-of-type {\n",
       "        vertical-align: middle;\n",
       "    }\n",
       "\n",
       "    .dataframe tbody tr th {\n",
       "        vertical-align: top;\n",
       "    }\n",
       "\n",
       "    .dataframe thead th {\n",
       "        text-align: right;\n",
       "    }\n",
       "</style>\n",
       "<table border=\"1\" class=\"dataframe\">\n",
       "  <thead>\n",
       "    <tr style=\"text-align: right;\">\n",
       "      <th></th>\n",
       "      <th>0</th>\n",
       "      <th>1</th>\n",
       "      <th>2</th>\n",
       "      <th>3</th>\n",
       "      <th>4</th>\n",
       "      <th>5</th>\n",
       "      <th>6</th>\n",
       "      <th>7</th>\n",
       "      <th>8</th>\n",
       "      <th>9</th>\n",
       "      <th>...</th>\n",
       "      <th>40</th>\n",
       "      <th>41</th>\n",
       "      <th>42</th>\n",
       "      <th>43</th>\n",
       "      <th>44</th>\n",
       "      <th>45</th>\n",
       "      <th>46</th>\n",
       "      <th>47</th>\n",
       "      <th>48</th>\n",
       "      <th>49</th>\n",
       "    </tr>\n",
       "  </thead>\n",
       "  <tbody>\n",
       "    <tr>\n",
       "      <th>0</th>\n",
       "      <td>-0.433145</td>\n",
       "      <td>0.011340</td>\n",
       "      <td>1.685656</td>\n",
       "      <td>0.470911</td>\n",
       "      <td>-1.552910</td>\n",
       "      <td>-0.159099</td>\n",
       "      <td>-0.119745</td>\n",
       "      <td>-0.194541</td>\n",
       "      <td>0.239298</td>\n",
       "      <td>0.120035</td>\n",
       "      <td>...</td>\n",
       "      <td>0.064310</td>\n",
       "      <td>-0.459911</td>\n",
       "      <td>-0.314748</td>\n",
       "      <td>-0.022624</td>\n",
       "      <td>-0.265473</td>\n",
       "      <td>0.270533</td>\n",
       "      <td>0.087025</td>\n",
       "      <td>-0.034689</td>\n",
       "      <td>-0.091955</td>\n",
       "      <td>-0.030519</td>\n",
       "    </tr>\n",
       "    <tr>\n",
       "      <th>1</th>\n",
       "      <td>4.324258</td>\n",
       "      <td>-1.358912</td>\n",
       "      <td>0.429569</td>\n",
       "      <td>-0.143877</td>\n",
       "      <td>-0.560675</td>\n",
       "      <td>0.514949</td>\n",
       "      <td>-0.397972</td>\n",
       "      <td>-0.008817</td>\n",
       "      <td>1.603707</td>\n",
       "      <td>0.650440</td>\n",
       "      <td>...</td>\n",
       "      <td>0.261952</td>\n",
       "      <td>0.046970</td>\n",
       "      <td>0.068711</td>\n",
       "      <td>-0.090058</td>\n",
       "      <td>0.020241</td>\n",
       "      <td>-0.121019</td>\n",
       "      <td>0.052707</td>\n",
       "      <td>-0.080788</td>\n",
       "      <td>-0.143471</td>\n",
       "      <td>0.066391</td>\n",
       "    </tr>\n",
       "    <tr>\n",
       "      <th>2</th>\n",
       "      <td>0.960356</td>\n",
       "      <td>1.638096</td>\n",
       "      <td>-1.806458</td>\n",
       "      <td>-0.160260</td>\n",
       "      <td>-0.653289</td>\n",
       "      <td>2.498406</td>\n",
       "      <td>3.534793</td>\n",
       "      <td>0.214727</td>\n",
       "      <td>-0.584899</td>\n",
       "      <td>-0.561102</td>\n",
       "      <td>...</td>\n",
       "      <td>0.025349</td>\n",
       "      <td>-0.000724</td>\n",
       "      <td>-0.007829</td>\n",
       "      <td>0.007629</td>\n",
       "      <td>0.005990</td>\n",
       "      <td>-0.018858</td>\n",
       "      <td>-0.003878</td>\n",
       "      <td>-0.001526</td>\n",
       "      <td>-0.011795</td>\n",
       "      <td>-0.783978</td>\n",
       "    </tr>\n",
       "    <tr>\n",
       "      <th>3</th>\n",
       "      <td>1.643057</td>\n",
       "      <td>0.388285</td>\n",
       "      <td>1.184043</td>\n",
       "      <td>2.611264</td>\n",
       "      <td>0.438035</td>\n",
       "      <td>0.168524</td>\n",
       "      <td>-0.116631</td>\n",
       "      <td>0.062154</td>\n",
       "      <td>0.207619</td>\n",
       "      <td>0.571994</td>\n",
       "      <td>...</td>\n",
       "      <td>-1.305530</td>\n",
       "      <td>2.439451</td>\n",
       "      <td>1.577748</td>\n",
       "      <td>-1.098368</td>\n",
       "      <td>-0.598938</td>\n",
       "      <td>3.477087</td>\n",
       "      <td>4.158938</td>\n",
       "      <td>9.039506</td>\n",
       "      <td>-1.107332</td>\n",
       "      <td>-0.083019</td>\n",
       "    </tr>\n",
       "    <tr>\n",
       "      <th>4</th>\n",
       "      <td>0.092702</td>\n",
       "      <td>-1.512679</td>\n",
       "      <td>-0.583053</td>\n",
       "      <td>-1.128212</td>\n",
       "      <td>-1.383757</td>\n",
       "      <td>-0.207153</td>\n",
       "      <td>-0.402350</td>\n",
       "      <td>-0.092722</td>\n",
       "      <td>0.169307</td>\n",
       "      <td>-0.677239</td>\n",
       "      <td>...</td>\n",
       "      <td>-0.035599</td>\n",
       "      <td>0.160761</td>\n",
       "      <td>0.001338</td>\n",
       "      <td>-0.026596</td>\n",
       "      <td>-0.021916</td>\n",
       "      <td>-0.062014</td>\n",
       "      <td>0.039532</td>\n",
       "      <td>0.043538</td>\n",
       "      <td>0.036182</td>\n",
       "      <td>-0.051674</td>\n",
       "    </tr>\n",
       "    <tr>\n",
       "      <th>...</th>\n",
       "      <td>...</td>\n",
       "      <td>...</td>\n",
       "      <td>...</td>\n",
       "      <td>...</td>\n",
       "      <td>...</td>\n",
       "      <td>...</td>\n",
       "      <td>...</td>\n",
       "      <td>...</td>\n",
       "      <td>...</td>\n",
       "      <td>...</td>\n",
       "      <td>...</td>\n",
       "      <td>...</td>\n",
       "      <td>...</td>\n",
       "      <td>...</td>\n",
       "      <td>...</td>\n",
       "      <td>...</td>\n",
       "      <td>...</td>\n",
       "      <td>...</td>\n",
       "      <td>...</td>\n",
       "      <td>...</td>\n",
       "      <td>...</td>\n",
       "    </tr>\n",
       "    <tr>\n",
       "      <th>1039</th>\n",
       "      <td>-1.784487</td>\n",
       "      <td>-0.096527</td>\n",
       "      <td>3.348361</td>\n",
       "      <td>-1.299142</td>\n",
       "      <td>-0.649208</td>\n",
       "      <td>0.164125</td>\n",
       "      <td>-0.040262</td>\n",
       "      <td>-0.643325</td>\n",
       "      <td>-0.149668</td>\n",
       "      <td>-0.299857</td>\n",
       "      <td>...</td>\n",
       "      <td>-0.068651</td>\n",
       "      <td>-0.080872</td>\n",
       "      <td>-0.029176</td>\n",
       "      <td>-0.086026</td>\n",
       "      <td>-0.078937</td>\n",
       "      <td>0.029913</td>\n",
       "      <td>0.064772</td>\n",
       "      <td>-0.027858</td>\n",
       "      <td>-0.083300</td>\n",
       "      <td>0.017687</td>\n",
       "    </tr>\n",
       "    <tr>\n",
       "      <th>1040</th>\n",
       "      <td>4.222238</td>\n",
       "      <td>-1.352689</td>\n",
       "      <td>0.388204</td>\n",
       "      <td>-0.136105</td>\n",
       "      <td>-0.578452</td>\n",
       "      <td>0.512735</td>\n",
       "      <td>-0.398668</td>\n",
       "      <td>-0.008989</td>\n",
       "      <td>1.604131</td>\n",
       "      <td>0.650213</td>\n",
       "      <td>...</td>\n",
       "      <td>0.262042</td>\n",
       "      <td>0.047103</td>\n",
       "      <td>0.068809</td>\n",
       "      <td>-0.090300</td>\n",
       "      <td>0.020442</td>\n",
       "      <td>-0.121288</td>\n",
       "      <td>0.052500</td>\n",
       "      <td>-0.080995</td>\n",
       "      <td>-0.143948</td>\n",
       "      <td>0.078492</td>\n",
       "    </tr>\n",
       "    <tr>\n",
       "      <th>1041</th>\n",
       "      <td>-0.111971</td>\n",
       "      <td>-0.994103</td>\n",
       "      <td>-1.370882</td>\n",
       "      <td>1.089477</td>\n",
       "      <td>2.293791</td>\n",
       "      <td>0.225249</td>\n",
       "      <td>-0.269655</td>\n",
       "      <td>0.627952</td>\n",
       "      <td>-0.518340</td>\n",
       "      <td>0.060522</td>\n",
       "      <td>...</td>\n",
       "      <td>-0.055882</td>\n",
       "      <td>0.112118</td>\n",
       "      <td>-0.065318</td>\n",
       "      <td>0.006541</td>\n",
       "      <td>0.085705</td>\n",
       "      <td>-0.150870</td>\n",
       "      <td>-0.124530</td>\n",
       "      <td>0.006514</td>\n",
       "      <td>-0.079449</td>\n",
       "      <td>-0.159917</td>\n",
       "    </tr>\n",
       "    <tr>\n",
       "      <th>1042</th>\n",
       "      <td>-0.920740</td>\n",
       "      <td>1.478124</td>\n",
       "      <td>-1.318496</td>\n",
       "      <td>-2.030512</td>\n",
       "      <td>-1.135246</td>\n",
       "      <td>-0.181978</td>\n",
       "      <td>-0.177679</td>\n",
       "      <td>-0.245042</td>\n",
       "      <td>-0.012451</td>\n",
       "      <td>-0.346093</td>\n",
       "      <td>...</td>\n",
       "      <td>-0.105670</td>\n",
       "      <td>0.191473</td>\n",
       "      <td>0.006350</td>\n",
       "      <td>-0.056424</td>\n",
       "      <td>-0.042509</td>\n",
       "      <td>0.045041</td>\n",
       "      <td>0.020622</td>\n",
       "      <td>0.045303</td>\n",
       "      <td>0.083472</td>\n",
       "      <td>-0.676346</td>\n",
       "    </tr>\n",
       "    <tr>\n",
       "      <th>1043</th>\n",
       "      <td>-1.748739</td>\n",
       "      <td>-0.591089</td>\n",
       "      <td>-0.590437</td>\n",
       "      <td>0.658776</td>\n",
       "      <td>-0.712297</td>\n",
       "      <td>-0.309435</td>\n",
       "      <td>-0.170439</td>\n",
       "      <td>0.084842</td>\n",
       "      <td>-0.183999</td>\n",
       "      <td>-0.102257</td>\n",
       "      <td>...</td>\n",
       "      <td>-1.455860</td>\n",
       "      <td>0.195539</td>\n",
       "      <td>-0.876826</td>\n",
       "      <td>0.407441</td>\n",
       "      <td>-0.123575</td>\n",
       "      <td>0.071131</td>\n",
       "      <td>-0.314623</td>\n",
       "      <td>0.342379</td>\n",
       "      <td>0.134113</td>\n",
       "      <td>-0.234415</td>\n",
       "    </tr>\n",
       "  </tbody>\n",
       "</table>\n",
       "<p>1044 rows × 50 columns</p>\n",
       "</div>"
      ],
      "text/plain": [
       "            0         1         2         3         4         5         6   \\\n",
       "0    -0.433145  0.011340  1.685656  0.470911 -1.552910 -0.159099 -0.119745   \n",
       "1     4.324258 -1.358912  0.429569 -0.143877 -0.560675  0.514949 -0.397972   \n",
       "2     0.960356  1.638096 -1.806458 -0.160260 -0.653289  2.498406  3.534793   \n",
       "3     1.643057  0.388285  1.184043  2.611264  0.438035  0.168524 -0.116631   \n",
       "4     0.092702 -1.512679 -0.583053 -1.128212 -1.383757 -0.207153 -0.402350   \n",
       "...        ...       ...       ...       ...       ...       ...       ...   \n",
       "1039 -1.784487 -0.096527  3.348361 -1.299142 -0.649208  0.164125 -0.040262   \n",
       "1040  4.222238 -1.352689  0.388204 -0.136105 -0.578452  0.512735 -0.398668   \n",
       "1041 -0.111971 -0.994103 -1.370882  1.089477  2.293791  0.225249 -0.269655   \n",
       "1042 -0.920740  1.478124 -1.318496 -2.030512 -1.135246 -0.181978 -0.177679   \n",
       "1043 -1.748739 -0.591089 -0.590437  0.658776 -0.712297 -0.309435 -0.170439   \n",
       "\n",
       "            7         8         9   ...        40        41        42  \\\n",
       "0    -0.194541  0.239298  0.120035  ...  0.064310 -0.459911 -0.314748   \n",
       "1    -0.008817  1.603707  0.650440  ...  0.261952  0.046970  0.068711   \n",
       "2     0.214727 -0.584899 -0.561102  ...  0.025349 -0.000724 -0.007829   \n",
       "3     0.062154  0.207619  0.571994  ... -1.305530  2.439451  1.577748   \n",
       "4    -0.092722  0.169307 -0.677239  ... -0.035599  0.160761  0.001338   \n",
       "...        ...       ...       ...  ...       ...       ...       ...   \n",
       "1039 -0.643325 -0.149668 -0.299857  ... -0.068651 -0.080872 -0.029176   \n",
       "1040 -0.008989  1.604131  0.650213  ...  0.262042  0.047103  0.068809   \n",
       "1041  0.627952 -0.518340  0.060522  ... -0.055882  0.112118 -0.065318   \n",
       "1042 -0.245042 -0.012451 -0.346093  ... -0.105670  0.191473  0.006350   \n",
       "1043  0.084842 -0.183999 -0.102257  ... -1.455860  0.195539 -0.876826   \n",
       "\n",
       "            43        44        45        46        47        48        49  \n",
       "0    -0.022624 -0.265473  0.270533  0.087025 -0.034689 -0.091955 -0.030519  \n",
       "1    -0.090058  0.020241 -0.121019  0.052707 -0.080788 -0.143471  0.066391  \n",
       "2     0.007629  0.005990 -0.018858 -0.003878 -0.001526 -0.011795 -0.783978  \n",
       "3    -1.098368 -0.598938  3.477087  4.158938  9.039506 -1.107332 -0.083019  \n",
       "4    -0.026596 -0.021916 -0.062014  0.039532  0.043538  0.036182 -0.051674  \n",
       "...        ...       ...       ...       ...       ...       ...       ...  \n",
       "1039 -0.086026 -0.078937  0.029913  0.064772 -0.027858 -0.083300  0.017687  \n",
       "1040 -0.090300  0.020442 -0.121288  0.052500 -0.080995 -0.143948  0.078492  \n",
       "1041  0.006541  0.085705 -0.150870 -0.124530  0.006514 -0.079449 -0.159917  \n",
       "1042 -0.056424 -0.042509  0.045041  0.020622  0.045303  0.083472 -0.676346  \n",
       "1043  0.407441 -0.123575  0.071131 -0.314623  0.342379  0.134113 -0.234415  \n",
       "\n",
       "[1044 rows x 50 columns]"
      ]
     },
     "execution_count": 60,
     "metadata": {},
     "output_type": "execute_result"
    }
   ],
   "source": [
    "reduced_train"
   ]
  },
  {
   "cell_type": "markdown",
   "metadata": {},
   "source": [
    "### Applying Linear Regression"
   ]
  },
  {
   "cell_type": "code",
   "execution_count": 61,
   "metadata": {},
   "outputs": [],
   "source": [
    "from sklearn.linear_model import LinearRegression, Lasso, Ridge"
   ]
  },
  {
   "cell_type": "code",
   "execution_count": 62,
   "metadata": {},
   "outputs": [],
   "source": [
    "from sklearn.neighbors import KNeighborsRegressor\n",
    "from sklearn.ensemble import AdaBoostRegressor, GradientBoostingRegressor, RandomForestRegressor\n",
    "from sklearn.tree import DecisionTreeRegressor\n",
    "from sklearn.svm import SVR"
   ]
  },
  {
   "cell_type": "code",
   "execution_count": 63,
   "metadata": {},
   "outputs": [],
   "source": [
    "from sklearn.metrics import mean_squared_error, r2_score\n",
    "from sklearn.model_selection import cross_val_score"
   ]
  },
  {
   "cell_type": "code",
   "execution_count": 64,
   "metadata": {},
   "outputs": [],
   "source": [
    "#concatenating train and test independent variable\n",
    "new_X = pd.concat([reduced_train, reduced_test], axis=0)"
   ]
  },
  {
   "cell_type": "code",
   "execution_count": 65,
   "metadata": {},
   "outputs": [],
   "source": [
    "# prepare models\n",
    "models = []\n",
    "models.append(('LinReg', LinearRegression()))\n",
    "models.append(('Lasso', Lasso(alpha=0.001)))\n",
    "models.append(('Ridge', Ridge(alpha=0.001)))\n",
    "models.append(('KNR', KNeighborsRegressor(n_neighbors=5)))\n",
    "models.append(('SVR', SVR()))\n",
    "models.append(('DTR', DecisionTreeRegressor()))"
   ]
  },
  {
   "cell_type": "code",
   "execution_count": 66,
   "metadata": {},
   "outputs": [
    {
     "name": "stdout",
     "output_type": "stream",
     "text": [
      "LinReg\n",
      "cv_result is: 0.6198880441849023\n",
      "std dev is: 0.08013396604442326\n",
      "r2_score is: 0.5224192834378709\n",
      "RMSE is: 0.1144343536528022\n",
      "------------------------x-------------------x---------------------x---------------------\n",
      "Lasso\n",
      "cv_result is: 0.6193723801011239\n",
      "std dev is: 0.08225929927486615\n",
      "r2_score is: 0.4922797010679959\n",
      "RMSE is: 0.11442545341628738\n",
      "------------------------x-------------------x---------------------x---------------------\n",
      "Ridge\n",
      "cv_result is: 0.6198880909311526\n",
      "std dev is: 0.080133992448544\n",
      "r2_score is: 0.522418614697584\n",
      "RMSE is: 0.11443433662357297\n",
      "------------------------x-------------------x---------------------x---------------------\n",
      "KNR\n",
      "cv_result is: 0.7470256818817843\n",
      "std dev is: 0.06087386842688084\n",
      "r2_score is: 0.729021159292143\n",
      "RMSE is: 0.09363793301862233\n",
      "------------------------x-------------------x---------------------x---------------------\n",
      "SVR\n",
      "cv_result is: 0.6996623854130258\n",
      "std dev is: 0.07428520925771546\n",
      "r2_score is: 0.6487025973539766\n",
      "RMSE is: 0.09739481602639526\n",
      "------------------------x-------------------x---------------------x---------------------\n",
      "DTR\n",
      "cv_result is: 0.6339684347058193\n",
      "std dev is: 0.11577537351704416\n",
      "r2_score is: 0.6718605965089655\n",
      "RMSE is: 0.11097679133172716\n",
      "------------------------x-------------------x---------------------x---------------------\n"
     ]
    }
   ],
   "source": [
    "# evaluate each model in turn\n",
    "results = []\n",
    "names = []\n",
    "for name, model in models:\n",
    "     \n",
    "    #fitting data to model\n",
    "    m = model\n",
    "    m.fit(reduced_train, y_train)\n",
    "    pred = m.predict(reduced_test)\n",
    "    \n",
    "    #evaluating results\n",
    "    cv_results = cross_val_score(model, reduced_train, y_train, cv=10, scoring='r2')\n",
    "    results.append(cv_results)\n",
    "    names.append(name)\n",
    "    print(name)\n",
    "    print('cv_result is:', cv_results.mean())\n",
    "    print('std dev is:' , cv_results.std())\n",
    "    print('r2_score is:', r2_score(pred, y_test))\n",
    "    print('RMSE is:', np.sqrt(mean_squared_error(pred, y_test)))\n",
    "    print(\"------------------------x-------------------x---------------------x---------------------\")"
   ]
  },
  {
   "cell_type": "code",
   "execution_count": 67,
   "metadata": {},
   "outputs": [
    {
     "data": {
      "image/png": "[encoded data removed]",
      "text/plain": [
       "<Figure size 432x288 with 1 Axes>"
      ]
     },
     "metadata": {
      "needs_background": "light"
     },
     "output_type": "display_data"
    }
   ],
   "source": [
    "# Compare Algorithms\n",
    "plt.boxplot(results, labels=names)\n",
    "plt.title('Algorithm Comparison')\n",
    "plt.show()"
   ]
  },
  {
   "cell_type": "raw",
   "metadata": {},
   "source": [
    "We can see that KNeighborsRegressor is the best model"
   ]
  },
  {
   "cell_type": "markdown",
   "metadata": {},
   "source": [
    "### Tuning hyperparameters"
   ]
  },
  {
   "cell_type": "code",
   "execution_count": 68,
   "metadata": {},
   "outputs": [],
   "source": [
    "from sklearn.model_selection import GridSearchCV"
   ]
  },
  {
   "cell_type": "code",
   "execution_count": 69,
   "metadata": {},
   "outputs": [
    {
     "data": {
      "text/plain": [
       "{'n_neighbors': 3}"
      ]
     },
     "execution_count": 69,
     "metadata": {},
     "output_type": "execute_result"
    }
   ],
   "source": [
    "#checking k neighbors regressor\n",
    "neighbors = {'n_neighbors':range(1,30)}\n",
    "knr = KNeighborsRegressor()\n",
    "gknr = GridSearchCV(knr, neighbors, cv=10)\n",
    "gknr.fit(reduced_train, y_train)\n",
    "gknr.best_params_"
   ]
  },
  {
   "cell_type": "code",
   "execution_count": 70,
   "metadata": {},
   "outputs": [
    {
     "name": "stdout",
     "output_type": "stream",
     "text": [
      "cv_result is: 0.7470256818817843\n",
      "std dev is: 0.06087386842688084\n",
      "r2_score is: 0.729021159292143\n",
      "RMSE is: 0.09363793301862233\n"
     ]
    }
   ],
   "source": [
    "#fitting data to model\n",
    "knr.fit(reduced_train, y_train)\n",
    "pred = knr.predict(reduced_test)\n",
    "    \n",
    "#evaluating results\n",
    "cv_results = cross_val_score(knr, reduced_train, y_train, cv=10, scoring='r2')\n",
    "print('cv_result is:', cv_results.mean())\n",
    "print('std dev is:' , cv_results.std())\n",
    "print('r2_score is:', r2_score(pred, y_test))\n",
    "print('RMSE is:', np.sqrt(mean_squared_error(pred, y_test)))    "
   ]
  },
  {
   "cell_type": "markdown",
   "metadata": {},
   "source": [
    "### Boosting results"
   ]
  },
  {
   "cell_type": "markdown",
   "metadata": {},
   "source": [
    "##### using GradientBoostingRegressor"
   ]
  },
  {
   "cell_type": "code",
   "execution_count": 70,
   "metadata": {},
   "outputs": [
    {
     "data": {
      "text/plain": [
       "{'learning_rate': 0.1, 'n_estimators': 1000}"
      ]
     },
     "execution_count": 70,
     "metadata": {},
     "output_type": "execute_result"
    }
   ],
   "source": [
    "gbr = GradientBoostingRegressor()\n",
    "param_grid = {'n_estimators':[10,100,500,1000], 'learning_rate':[0.001,0.01,0.05,0.1,0.5,1]}\n",
    "grid = GridSearchCV(gbr,param_grid, cv=5, refit=True)\n",
    "grid.fit(reduced_train, y_train)\n",
    "grid.best_params_"
   ]
  },
  {
   "cell_type": "code",
   "execution_count": 71,
   "metadata": {},
   "outputs": [
    {
     "data": {
      "text/plain": [
       "0.7726318417386493"
      ]
     },
     "execution_count": 71,
     "metadata": {},
     "output_type": "execute_result"
    }
   ],
   "source": [
    "gbr = GradientBoostingRegressor(n_estimators=1000, learning_rate=0.05)\n",
    "cross_val_score(gbr, reduced_train,y_train, cv=5, scoring='r2').mean()"
   ]
  },
  {
   "cell_type": "code",
   "execution_count": null,
   "metadata": {},
   "outputs": [],
   "source": []
  },
  {
   "cell_type": "code",
   "execution_count": null,
   "metadata": {},
   "outputs": [],
   "source": []
  },
  {
   "cell_type": "code",
   "execution_count": null,
   "metadata": {},
   "outputs": [],
   "source": []
  },
  {
   "cell_type": "code",
   "execution_count": null,
   "metadata": {},
   "outputs": [],
   "source": []
  },
  {
   "cell_type": "code",
   "execution_count": null,
   "metadata": {},
   "outputs": [],
   "source": []
  }
 ],
 "metadata": {
  "kernelspec": {
   "display_name": "Python 3",
   "language": "python",
   "name": "python3"
  },
  "language_info": {
   "codemirror_mode": {
    "name": "ipython",
    "version": 3
   },
   "file_extension": ".py",
   "mimetype": "text/x-python",
   "name": "python",
   "nbconvert_exporter": "python",
   "pygments_lexer": "ipython3",
   "version": "3.7.6"
  }
 },
 "nbformat": 4,
 "nbformat_minor": 2
}
